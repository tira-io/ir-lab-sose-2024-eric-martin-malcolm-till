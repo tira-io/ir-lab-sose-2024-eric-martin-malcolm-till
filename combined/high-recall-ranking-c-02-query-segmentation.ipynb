{
 "cells": [
  {
   "cell_type": "markdown",
   "metadata": {},
   "source": [
    "# IR Lab SoSe 2024: Combined Retrieval System with Query Segmentation\n",
    "\n",
    "This jupyter notebook serves as an improved retrieval system combining BM25, Query Expansion, Query Segmentation, and additional reranking models.\n",
    "We will use a corpus of scientific papers (title + abstracts) from the fields of information retrieval and natural language processing (the IR Anthology and the ACL Anthology). This notebook serves as a retrieval system, i.e., it gets a set of information needs (topics) and a corpus as input and produces a run file as output. Please do evaluations in a new dedicated notebook."
   ]
  },
  {
   "cell_type": "markdown",
   "metadata": {},
   "source": [
    "### Step 1: Import Libraries\n",
    "\n",
    "We will use tira, an information retrieval shared task platform, for loading the (pre-built) retrieval index and ir_dataset to subsequently build a retrieval system with PyTerrier, an open-source search engine. We'll also use NLTK for query segmentation."
   ]
  },
  {
   "cell_type": "code",
   "execution_count": null,
   "metadata": {},
   "outputs": [],
   "source": [
    "# Imports\n",
    "from tira.third_party_integrations import ensure_pyterrier_is_loaded, persist_and_normalize_run\n",
    "from tira.rest_api_client import Client\n",
    "import pyterrier as pt\n",
    "import pandas as pd\n",
    "import os\n",
    "import nltk\n",
    "from nltk.tokenize import word_tokenize\n",
    "from nltk.util import ngrams\n",
    "\n",
    "# Download necessary NLTK data\n",
    "nltk.download('punkt')\n",
    "\n",
    "# Create a REST client to the TIRA platform for retrieving the pre-indexed data.\n",
    "ensure_pyterrier_is_loaded()\n",
    "tira = Client()"
   ]
  },
  {
   "cell_type": "markdown",
   "metadata": {},
   "source": [
    "### Step 2: Load the Dataset and the Index"
   ]
  },
  {
   "cell_type": "code",
   "execution_count": null,
   "metadata": {},
   "outputs": [],
   "source": [
    "# The dataset: the union of the IR Anthology and the ACL Anthology\n",
    "pt_dataset = pt.get_dataset('irds:ir-lab-sose-2024/ir-acl-anthology-20240504-training')\n",
    "\n",
    "# A (pre-built) PyTerrier index loaded from TIRA\n",
    "index = tira.pt.index('ir-lab-sose-2024/tira-ir-starter/Index (tira-ir-starter-pyterrier)', pt_dataset)"
   ]
  },
  {
   "cell_type": "markdown",
   "metadata": {},
   "source": [
    "### Step 3: Define Query Segmentation and the Retrieval Pipeline"
   ]
  },
  {
   "cell_type": "code",
   "execution_count": null,
   "metadata": {},
   "outputs": [],
   "source": [
    "def query_segmentation(query, max_segment_length=3):\n",
    "    tokens = word_tokenize(query)\n",
    "    segments = []\n",
    "    for n in range(1, min(max_segment_length, len(tokens)) + 1):\n",
    "        segments.extend([' '.join(gram) for gram in ngrams(tokens, n)])\n",
    "    return ' '.join(segments)\n",
    "\n",
    "class QuerySegmentationTransformer(pt.Transformer):\n",
    "    def transform(self, topics):\n",
    "        topics['query'] = topics['query'].apply(query_segmentation)\n",
    "        return topics\n",
    "\n",
    "# Base retrieval model with BM25\n",
    "bm25 = pt.BatchRetrieve(index, wmodel=\"BM25\")\n",
    "\n",
    "# Query expansion with Bo1\n",
    "bo1_expansion = pt.rewrite.Bo1QueryExpansion(index, fb_docs=10, fb_terms=20)\n",
    "\n",
    "# Additional reranking models\n",
    "tf_idf = pt.BatchRetrieve(index, wmodel=\"TF_IDF\")\n",
    "dirichletLM = pt.BatchRetrieve(index, wmodel=\"DirichletLM\")\n",
    "\n",
    "# Combined retrieval pipeline with query segmentation\n",
    "combined_pipeline = (\n",
    "    QuerySegmentationTransformer() >>\n",
    "    bm25 >>\n",
    "    bo1_expansion >>\n",
    "    bm25\n",
    ") + 2 * tf_idf + 2 * dirichletLM"
   ]
  },
  {
   "cell_type": "markdown",
   "metadata": {},
   "source": [
    "### Step 4: Create the Run"
   ]
  },
  {
   "cell_type": "code",
   "execution_count": null,
   "metadata": {},
   "outputs": [],
   "source": [
    "print('First, we have a short look at the first three topics:')\n",
    "print(pt_dataset.get_topics('text').head(3))\n",
    "\n",
    "print('Now we do the retrieval...')\n",
    "run = combined_pipeline.transform(pt_dataset.get_topics('text'))\n",
    "\n",
    "print('Done. Here are the first 10 entries of the run')\n",
    "print(run.head(10))"
   ]
  },
  {
   "cell_type": "markdown",
   "metadata": {},
   "source": [
    "### Step 5: Persist the run file for subsequent evaluations"
   ]
  },
  {
   "cell_type": "code",
   "execution_count": null,
   "metadata": {},
   "outputs": [],
   "source": [
    "# Create the 'runs' directory if it doesn't exist\n",
    "os.makedirs('../runs', exist_ok=True)\n",
    "\n",
    "persist_and_normalize_run(run, system_name='combined-bm25-bo1-tfidf-dirichlet-querysegmentation', default_output='../runs')\n",
    "print('Run file is stored under \"../runs/run.txt\".')"
   ]
  }
 ],
 "metadata": {
  "kernelspec": {
   "display_name": "Python 3",
   "language": "python",
   "name": "python3"
  },
  "language_info": {
   "codemirror_mode": {
    "name": "ipython",
    "version": 3
   },
   "file_extension": ".py",
   "mimetype": "text/x-python",
   "name": "python",
   "nbconvert_exporter": "python",
   "pygments_lexer": "ipython3",
   "version": "3.11.5"
  }
 },
 "nbformat": 4,
 "nbformat_minor": 2
}