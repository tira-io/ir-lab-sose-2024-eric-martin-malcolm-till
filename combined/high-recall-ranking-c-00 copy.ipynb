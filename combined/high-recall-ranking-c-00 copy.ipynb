{
 "cells": [
  {
   "cell_type": "markdown",
   "metadata": {},
   "source": [
    "# IR Lab SoSe 2024: Combined Retrieval System\n",
    "\n",
    "This jupyter notebook serves as an improved retrieval system combining BM25, Query Expansion, and additional reranking models.\n",
    "We will use a corpus of scientific papers (title + abstracts) from the fields of information retrieval and natural language processing (the [IR Anthology](https://ir.webis.de/anthology/) and the [ACL Anthology](https://aclanthology.org/)). This notebook serves as a retrieval system, i.e., it gets a set of information needs (topics) and a corpus as input and produces a run file as output. Please do evaluations in a new dedicated notebook."
   ]
  },
  {
   "cell_type": "markdown",
   "metadata": {},
   "source": [
    "### Step 1: Import Libraries\n",
    "\n",
    "We will use [tira](https://www.tira.io/), an information retrieval shared task platform, for loading the (pre-built) retrieval index and [ir_dataset](https://ir-datasets.com/) to subsequently build a retrieval system with [PyTerrier](https://github.com/terrier-org/pyterrier), an open-source search engine."
   ]
  },
  {
   "cell_type": "code",
   "execution_count": 1,
   "metadata": {},
   "outputs": [
    {
     "name": "stdout",
     "output_type": "stream",
     "text": [
      "Collecting tira\n",
      "  Using cached tira-0.0.134-py3-none-any.whl.metadata (4.6 kB)\n",
      "Collecting ir-datasets\n",
      "  Using cached ir_datasets-0.5.8-py3-none-any.whl.metadata (12 kB)\n",
      "Collecting python-terrier\n",
      "  Using cached python_terrier-0.10.1-py3-none-any.whl\n",
      "Collecting transformers\n",
      "  Using cached transformers-4.42.3-py3-none-any.whl.metadata (43 kB)\n",
      "Requirement already satisfied: torch in ./.venv/lib/python3.11/site-packages (2.3.1)\n",
      "Requirement already satisfied: nltk in ./.venv/lib/python3.11/site-packages (3.8.1)\n",
      "Requirement already satisfied: requests==2.*,>=2.26 in ./.venv/lib/python3.11/site-packages (from tira) (2.32.3)\n",
      "Collecting docker==7.*,>=7.1.0 (from tira)\n",
      "  Using cached docker-7.1.0-py3-none-any.whl.metadata (3.8 kB)\n",
      "Requirement already satisfied: numpy==1.* in ./.venv/lib/python3.11/site-packages (from tira) (1.26.4)\n",
      "Requirement already satisfied: pandas in ./.venv/lib/python3.11/site-packages (from tira) (2.2.2)\n",
      "Requirement already satisfied: packaging in ./.venv/lib/python3.11/site-packages (from tira) (24.1)\n",
      "Requirement already satisfied: tqdm in ./.venv/lib/python3.11/site-packages (from tira) (4.66.4)\n",
      "Requirement already satisfied: urllib3>=1.26.0 in ./.venv/lib/python3.11/site-packages (from docker==7.*,>=7.1.0->tira) (2.2.2)\n",
      "Requirement already satisfied: charset-normalizer<4,>=2 in ./.venv/lib/python3.11/site-packages (from requests==2.*,>=2.26->tira) (3.3.2)\n",
      "Requirement already satisfied: idna<4,>=2.5 in ./.venv/lib/python3.11/site-packages (from requests==2.*,>=2.26->tira) (3.7)\n",
      "Requirement already satisfied: certifi>=2017.4.17 in ./.venv/lib/python3.11/site-packages (from requests==2.*,>=2.26->tira) (2024.6.2)\n",
      "Requirement already satisfied: beautifulsoup4>=4.4.1 in ./.venv/lib/python3.11/site-packages (from ir-datasets) (4.12.3)\n",
      "Collecting inscriptis>=2.2.0 (from ir-datasets)\n",
      "  Using cached inscriptis-2.5.0-py3-none-any.whl.metadata (25 kB)\n",
      "Requirement already satisfied: lxml>=4.5.2 in ./.venv/lib/python3.11/site-packages (from ir-datasets) (5.2.2)\n",
      "Requirement already satisfied: pyyaml>=5.3.1 in ./.venv/lib/python3.11/site-packages (from ir-datasets) (6.0.1)\n",
      "Requirement already satisfied: trec-car-tools>=2.5.4 in ./.venv/lib/python3.11/site-packages (from ir-datasets) (2.6)\n",
      "Requirement already satisfied: lz4>=3.1.10 in ./.venv/lib/python3.11/site-packages (from ir-datasets) (4.3.3)\n",
      "Requirement already satisfied: warc3-wet>=0.2.3 in ./.venv/lib/python3.11/site-packages (from ir-datasets) (0.2.3)\n",
      "Requirement already satisfied: warc3-wet-clueweb09>=0.2.5 in ./.venv/lib/python3.11/site-packages (from ir-datasets) (0.2.5)\n",
      "Requirement already satisfied: zlib-state>=0.1.3 in ./.venv/lib/python3.11/site-packages (from ir-datasets) (0.1.6)\n",
      "Requirement already satisfied: ijson>=3.1.3 in ./.venv/lib/python3.11/site-packages (from ir-datasets) (3.3.0)\n",
      "Requirement already satisfied: unlzw3>=0.2.1 in ./.venv/lib/python3.11/site-packages (from ir-datasets) (0.2.2)\n",
      "Requirement already satisfied: wget in ./.venv/lib/python3.11/site-packages (from python-terrier) (3.2)\n",
      "Requirement already satisfied: pyjnius>=1.4.2 in ./.venv/lib/python3.11/site-packages (from python-terrier) (1.6.1)\n",
      "Requirement already satisfied: matchpy in ./.venv/lib/python3.11/site-packages (from python-terrier) (0.5.5)\n",
      "Requirement already satisfied: deprecated in ./.venv/lib/python3.11/site-packages (from python-terrier) (1.2.14)\n",
      "Requirement already satisfied: chest in ./.venv/lib/python3.11/site-packages (from python-terrier) (0.2.3)\n",
      "Requirement already satisfied: scipy in ./.venv/lib/python3.11/site-packages (from python-terrier) (1.14.0)\n",
      "Requirement already satisfied: joblib in ./.venv/lib/python3.11/site-packages (from python-terrier) (1.4.2)\n",
      "Requirement already satisfied: nptyping==1.4.4 in ./.venv/lib/python3.11/site-packages (from python-terrier) (1.4.4)\n",
      "Requirement already satisfied: more-itertools in ./.venv/lib/python3.11/site-packages (from python-terrier) (10.3.0)\n",
      "Requirement already satisfied: jinja2 in ./.venv/lib/python3.11/site-packages (from python-terrier) (3.1.4)\n",
      "Collecting statsmodels (from python-terrier)\n",
      "  Using cached statsmodels-0.14.2-cp311-cp311-macosx_11_0_arm64.whl.metadata (9.2 kB)\n",
      "Collecting ir-measures>=0.3.1 (from python-terrier)\n",
      "  Using cached ir_measures-0.3.3-py3-none-any.whl\n",
      "Requirement already satisfied: dill in ./.venv/lib/python3.11/site-packages (from python-terrier) (0.3.8)\n",
      "Requirement already satisfied: pytrec-eval-terrier>=0.5.3 in ./.venv/lib/python3.11/site-packages (from python-terrier) (0.5.6)\n",
      "Requirement already satisfied: typish>=1.7.0 in ./.venv/lib/python3.11/site-packages (from nptyping==1.4.4->python-terrier) (1.9.3)\n",
      "Requirement already satisfied: filelock in ./.venv/lib/python3.11/site-packages (from transformers) (3.15.4)\n",
      "Collecting huggingface-hub<1.0,>=0.23.2 (from transformers)\n",
      "  Using cached huggingface_hub-0.23.4-py3-none-any.whl.metadata (12 kB)\n",
      "Requirement already satisfied: regex!=2019.12.17 in ./.venv/lib/python3.11/site-packages (from transformers) (2024.5.15)\n",
      "Requirement already satisfied: safetensors>=0.4.1 in ./.venv/lib/python3.11/site-packages (from transformers) (0.4.3)\n",
      "Collecting tokenizers<0.20,>=0.19 (from transformers)\n",
      "  Using cached tokenizers-0.19.1-cp311-cp311-macosx_11_0_arm64.whl.metadata (6.7 kB)\n",
      "Requirement already satisfied: typing-extensions>=4.8.0 in ./.venv/lib/python3.11/site-packages (from torch) (4.12.2)\n",
      "Requirement already satisfied: sympy in ./.venv/lib/python3.11/site-packages (from torch) (1.12.1)\n",
      "Requirement already satisfied: networkx in ./.venv/lib/python3.11/site-packages (from torch) (3.3)\n",
      "Requirement already satisfied: fsspec in ./.venv/lib/python3.11/site-packages (from torch) (2024.6.1)\n",
      "Requirement already satisfied: click in ./.venv/lib/python3.11/site-packages (from nltk) (8.1.7)\n",
      "Requirement already satisfied: soupsieve>1.2 in ./.venv/lib/python3.11/site-packages (from beautifulsoup4>=4.4.1->ir-datasets) (2.5)\n",
      "Requirement already satisfied: cwl-eval>=1.0.10 in ./.venv/lib/python3.11/site-packages (from ir-measures>=0.3.1->python-terrier) (1.0.12)\n",
      "Requirement already satisfied: cbor>=1.0.0 in ./.venv/lib/python3.11/site-packages (from trec-car-tools>=2.5.4->ir-datasets) (1.0.0)\n",
      "Requirement already satisfied: heapdict in ./.venv/lib/python3.11/site-packages (from chest->python-terrier) (1.0.1)\n",
      "Requirement already satisfied: wrapt<2,>=1.10 in ./.venv/lib/python3.11/site-packages (from deprecated->python-terrier) (1.16.0)\n",
      "Requirement already satisfied: MarkupSafe>=2.0 in ./.venv/lib/python3.11/site-packages (from jinja2->python-terrier) (2.1.5)\n",
      "Requirement already satisfied: multiset<3.0,>=2.0 in ./.venv/lib/python3.11/site-packages (from matchpy->python-terrier) (2.1.1)\n",
      "Requirement already satisfied: python-dateutil>=2.8.2 in ./.venv/lib/python3.11/site-packages (from pandas->tira) (2.9.0.post0)\n",
      "Requirement already satisfied: pytz>=2020.1 in ./.venv/lib/python3.11/site-packages (from pandas->tira) (2024.1)\n",
      "Requirement already satisfied: tzdata>=2022.7 in ./.venv/lib/python3.11/site-packages (from pandas->tira) (2024.1)\n",
      "Requirement already satisfied: patsy>=0.5.6 in ./.venv/lib/python3.11/site-packages (from statsmodels->python-terrier) (0.5.6)\n",
      "Requirement already satisfied: mpmath<1.4.0,>=1.1.0 in ./.venv/lib/python3.11/site-packages (from sympy->torch) (1.3.0)\n",
      "Requirement already satisfied: six in ./.venv/lib/python3.11/site-packages (from patsy>=0.5.6->statsmodels->python-terrier) (1.16.0)\n",
      "Using cached tira-0.0.134-py3-none-any.whl (92 kB)\n",
      "Using cached docker-7.1.0-py3-none-any.whl (147 kB)\n",
      "Using cached ir_datasets-0.5.8-py3-none-any.whl (347 kB)\n",
      "Using cached transformers-4.42.3-py3-none-any.whl (9.3 MB)\n",
      "Using cached huggingface_hub-0.23.4-py3-none-any.whl (402 kB)\n",
      "Using cached inscriptis-2.5.0-py3-none-any.whl (45 kB)\n",
      "Using cached tokenizers-0.19.1-cp311-cp311-macosx_11_0_arm64.whl (2.4 MB)\n",
      "Using cached statsmodels-0.14.2-cp311-cp311-macosx_11_0_arm64.whl (10.1 MB)\n",
      "Installing collected packages: ir-measures, inscriptis, huggingface-hub, docker, tokenizers, tira, statsmodels, ir-datasets, transformers, python-terrier\n",
      "Successfully installed docker-7.1.0 huggingface-hub-0.23.4 inscriptis-2.5.0 ir-datasets-0.5.8 ir-measures-0.3.3 python-terrier-0.10.1 statsmodels-0.14.2 tira-0.0.134 tokenizers-0.19.1 transformers-4.42.3\n"
     ]
    }
   ],
   "source": [
    "!pip3 install tira ir-datasets python-terrier transformers torch nltk"
   ]
  },
  {
   "cell_type": "code",
   "execution_count": 2,
   "metadata": {},
   "outputs": [
    {
     "name": "stderr",
     "output_type": "stream",
     "text": [
      "/Users/martinschlenk/Desktop/IRS-combined/combined/.venv/lib/python3.11/site-packages/tqdm/auto.py:21: TqdmWarning: IProgress not found. Please update jupyter and ipywidgets. See https://ipywidgets.readthedocs.io/en/stable/user_install.html\n",
      "  from .autonotebook import tqdm as notebook_tqdm\n",
      "PyTerrier 0.10.1 has loaded Terrier 5.7 (built by craigm on 2022-11-10 18:30) and terrier-helper 0.0.7\n",
      "\n",
      "No etc/terrier.properties, using terrier.default.properties for bootstrap configuration.\n"
     ]
    }
   ],
   "source": [
    "# Imports\n",
    "from tira.third_party_integrations import ensure_pyterrier_is_loaded, persist_and_normalize_run\n",
    "from tira.rest_api_client import Client\n",
    "import pyterrier as pt\n",
    "import pandas as pd\n",
    "import os\n",
    "\n",
    "# Create a REST client to the TIRA platform for retrieving the pre-indexed data.\n",
    "ensure_pyterrier_is_loaded()\n",
    "tira = Client()"
   ]
  },
  {
   "cell_type": "markdown",
   "metadata": {},
   "source": [
    "### Step 2: Load the Dataset and the Index"
   ]
  },
  {
   "cell_type": "code",
   "execution_count": 3,
   "metadata": {},
   "outputs": [],
   "source": [
    "# The dataset: the union of the IR Anthology and the ACL Anthology\n",
    "pt_dataset = pt.get_dataset('irds:ir-lab-sose-2024/ir-acl-anthology-20240504-training')\n",
    "\n",
    "# A (pre-built) PyTerrier index loaded from TIRA\n",
    "index = tira.pt.index('ir-lab-sose-2024/tira-ir-starter/Index (tira-ir-starter-pyterrier)', pt_dataset)"
   ]
  },
  {
   "cell_type": "markdown",
   "metadata": {},
   "source": [
    "### Step 3: Define the Retrieval Pipeline"
   ]
  },
  {
   "cell_type": "code",
   "execution_count": 4,
   "metadata": {},
   "outputs": [],
   "source": [
    "# Base retrieval model with BM25\n",
    "bm25 = pt.BatchRetrieve(index, wmodel=\"BM25\")\n",
    "\n",
    "# Query expansion with Bo1\n",
    "bo1_expansion = pt.rewrite.Bo1QueryExpansion(index, fb_docs=10, fb_terms=20)\n",
    "bm25_bo1 = bm25 >> bo1_expansion >> bm25\n",
    "\n",
    "# Additional reranking models\n",
    "tf_idf = pt.BatchRetrieve(index, wmodel=\"TF_IDF\")\n",
    "dirichletLM = pt.BatchRetrieve(index, wmodel=\"DirichletLM\")\n",
    "\n",
    "# Combined retrieval pipeline\n",
    "combined_pipeline = bm25_bo1 + 2 * tf_idf + 2 * dirichletLM"
   ]
  },
  {
   "cell_type": "markdown",
   "metadata": {},
   "source": [
    "### Step 4: Create the Run"
   ]
  },
  {
   "cell_type": "code",
   "execution_count": 5,
   "metadata": {},
   "outputs": [
    {
     "name": "stdout",
     "output_type": "stream",
     "text": [
      "First, we have a short look at the first three topics:\n",
      "  qid                                     query\n",
      "0   1  retrieval system improving effectiveness\n",
      "1   2  machine learning language identification\n",
      "2   3             social media detect self harm\n",
      "Now we do the retrieval...\n",
      "Done. Here are the first 10 entries of the run\n",
      "  qid     docid                                        docno      score  \\\n",
      "0   1  125738.0             1971.ipm_journal-ir0volumeA7A6.0  26.030957   \n",
      "1   1       NaN              1971.sigirconf_conference-71.10   2.714984   \n",
      "2   1  124795.0             1972.ipm_journal-ir0volumeA8A5.1  25.507635   \n",
      "3   1   82625.0               1973.sigirconf_conference-73.4  23.323948   \n",
      "4   1       NaN  1976.sigirjournals_journal-ir0volumeA11A2.4   2.749110   \n",
      "5   1  123985.0            1977.ipm_journal-ir0volumeA13A2.2  24.760950   \n",
      "6   1   81370.0               1978.sigirconf_conference-78.2  22.373232   \n",
      "7   1  121909.0  1980.sigirjournals_journal-ir0volumeA15A3.4  25.766639   \n",
      "8   1       NaN              1981.sigirconf_conference-81.10   1.744575   \n",
      "9   1       NaN              1981.sigirconf_conference-81.11  14.181254   \n",
      "\n",
      "                                    query_0  \\\n",
      "0  retrieval system improving effectiveness   \n",
      "1                                       NaN   \n",
      "2  retrieval system improving effectiveness   \n",
      "3  retrieval system improving effectiveness   \n",
      "4                                       NaN   \n",
      "5  retrieval system improving effectiveness   \n",
      "6  retrieval system improving effectiveness   \n",
      "7  retrieval system improving effectiveness   \n",
      "8                                       NaN   \n",
      "9                                       NaN   \n",
      "\n",
      "                                               query  rank  \n",
      "0  applypipeline:off retriev^1.221462101 system^1...   338  \n",
      "1                                                NaN  1195  \n",
      "2  applypipeline:off retriev^1.221462101 system^1...   376  \n",
      "3  applypipeline:off retriev^1.221462101 system^1...   633  \n",
      "4                                                NaN  1191  \n",
      "5  applypipeline:off retriev^1.221462101 system^1...   450  \n",
      "6  applypipeline:off retriev^1.221462101 system^1...   721  \n",
      "7  applypipeline:off retriev^1.221462101 system^1...   355  \n",
      "8                                                NaN  1566  \n",
      "9                                                NaN   854  \n"
     ]
    }
   ],
   "source": [
    "print('First, we have a short look at the first three topics:')\n",
    "print(pt_dataset.get_topics('text').head(3))\n",
    "\n",
    "print('Now we do the retrieval...')\n",
    "run = combined_pipeline.transform(pt_dataset.get_topics('text'))\n",
    "\n",
    "print('Done. Here are the first 10 entries of the run')\n",
    "print(run.head(10))"
   ]
  },
  {
   "cell_type": "markdown",
   "metadata": {},
   "source": [
    "### Step 5: Persist the run file for subsequent evaluations"
   ]
  },
  {
   "cell_type": "code",
   "execution_count": 6,
   "metadata": {},
   "outputs": [
    {
     "name": "stdout",
     "output_type": "stream",
     "text": [
      "The run file is normalized outside the TIRA sandbox, I will store it at \"../runs\".\n",
      "Done. run file is stored under \"../runs/run.txt\".\n",
      "Run file is stored under \"../runs/run.txt\".\n"
     ]
    }
   ],
   "source": [
    "# Create the 'runs' directory if it doesn't exist\n",
    "os.makedirs('../runs', exist_ok=True)\n",
    "\n",
    "persist_and_normalize_run(run, system_name='combined-bm25-bo1-tfidf-dirichlet', default_output='../runs')\n",
    "print('Run file is stored under \"../runs/run.txt\".')"
   ]
  }
 ],
 "metadata": {
  "kernelspec": {
   "display_name": "Python 3",
   "language": "python",
   "name": "python3"
  },
  "language_info": {
   "codemirror_mode": {
    "name": "ipython",
    "version": 3
   },
   "file_extension": ".py",
   "mimetype": "text/x-python",
   "name": "python",
   "nbconvert_exporter": "python",
   "pygments_lexer": "ipython3",
   "version": "3.11.-1"
  }
 },
 "nbformat": 4,
 "nbformat_minor": 2
}
