{
 "cells": [
  {
   "cell_type": "markdown",
   "metadata": {},
   "source": [
    "# IR Lab SoSe 2024: Combined Retrieval System\n",
    "\n",
    "This jupyter notebook serves as an improved retrieval system combining components from both provided notebooks.\n",
    "We will use a corpus of scientific papers (title + abstracts) from the fields of information retrieval and natural language processing (the [IR Anthology](https://ir.webis.de/anthology/) and the [ACL Anthology](https://aclanthology.org/)). This notebook serves as a retrieval system, i.e., it gets a set of information needs (topics) and a corpus as input and produces a run file as output. Please do evaluations in a new dedicated notebook."
   ]
  },
  {
   "cell_type": "markdown",
   "metadata": {},
   "source": [
    "### Step 1: Import Libraries"
   ]
  },
  {
   "cell_type": "code",
   "execution_count": null,
   "metadata": {},
   "outputs": [],
   "source": [
    "from tira.third_party_integrations import ensure_pyterrier_is_loaded, persist_and_normalize_run\n",
    "from tira.rest_api_client import Client\n",
    "import pyterrier as pt\n",
    "import pandas as pd\n",
    "import os\n",
    "import nltk\n",
    "from nltk.tokenize import word_tokenize\n",
    "import logging\n",
    "\n",
    "logging.basicConfig(level=logging.INFO)\n",
    "\n",
    "# Download NLTK data\n",
    "nltk.download('punkt')\n",
    "\n",
    "# Initialize PyTerrier and TIRA client\n",
    "ensure_pyterrier_is_loaded()\n",
    "tira = Client()\n",
    "\n",
    "logging.info(\"Libraries imported successfully.\")"
   ]
  },
  {
   "cell_type": "markdown",
   "metadata": {},
   "source": [
    "### Step 2: Load the Dataset and the Index"
   ]
  },
  {
   "cell_type": "code",
   "execution_count": null,
   "metadata": {},
   "outputs": [],
   "source": [
    "try:\n",
    "    # The dataset: the union of the IR Anthology and the ACL Anthology\n",
    "    pt_dataset = pt.get_dataset('irds:ir-lab-sose-2024/ir-acl-anthology-20240504-training')\n",
    "    logging.info(\"Dataset loaded successfully.\")\n",
    "\n",
    "    # A (pre-built) PyTerrier index loaded from TIRA\n",
    "    index = tira.pt.index('ir-lab-sose-2024/tira-ir-starter/Index (tira-ir-starter-pyterrier)', pt_dataset)\n",
    "    logging.info(\"Index loaded successfully.\")\n",
    "except Exception as e:\n",
    "    logging.error(f\"An error occurred while loading the dataset or index: {str(e)}\")\n",
    "    raise"
   ]
  },
  {
   "cell_type": "markdown",
   "metadata": {},
   "source": [
    "### Step 3: Define the Retrieval Pipeline"
   ]
  },
  {
   "cell_type": "code",
   "execution_count": null,
   "metadata": {},
   "outputs": [],
   "source": [
    "# Base retrieval model with BM25\n",
    "bm25 = pt.BatchRetrieve(index, wmodel=\"BM25\")\n",
    "\n",
    "# Query expansion with Bo1\n",
    "bo1_expansion = pt.rewrite.Bo1QueryExpansion(index, fb_docs=10, fb_terms=20)\n",
    "bm25_bo1 = bm25 >> bo1_expansion >> bm25\n",
    "\n",
    "# Additional reranking models\n",
    "tf_idf = pt.BatchRetrieve(index, wmodel=\"TF_IDF\")\n",
    "dirichletLM = pt.BatchRetrieve(index, wmodel=\"DirichletLM\")\n",
    "\n",
    "# Combined retrieval pipeline\n",
    "combined_pipeline = bm25_bo1 + 2 * tf_idf + 2 * dirichletLM\n",
    "\n",
    "logging.info(\"Retrieval pipeline defined successfully.\")"
   ]
  },
  {
   "cell_type": "markdown",
   "metadata": {},
   "source": [
    "### Step 4: Create the Run"
   ]
  },
  {
   "cell_type": "code",
   "execution_count": null,
   "metadata": {},
   "outputs": [],
   "source": [
    "print('First, we have a short look at the first three topics:')\n",
    "topics = pt_dataset.get_topics('text')\n",
    "print(topics.head(3))\n",
    "\n",
    "# Simple tokenization function\n",
    "def tokenize_query(query):\n",
    "    return ' '.join(word_tokenize(query.lower()))\n",
    "\n",
    "print('\\nTokenizing the queries...')\n",
    "tokenized_topics = topics.copy()\n",
    "tokenized_topics['query'] = tokenized_topics['query'].apply(tokenize_query)\n",
    "print(tokenized_topics.head(3))\n",
    "\n",
    "print('\\nNow we do the retrieval...')\n",
    "run = combined_pipeline.transform(tokenized_topics)\n",
    "\n",
    "print('\\nDone. Here are the first 10 entries of the run')\n",
    "print(run.head(10))\n",
    "\n",
    "# Define possible output directories\n",
    "output_dirs = [\n",
    "    os.environ.get('outputDir', '/output'),  # TIRA-specific directory\n",
    "    '../runs',  # Local directory outside the sandbox\n",
    "    '.'  # Current directory as fallback\n",
    "]\n",
    "\n",
    "# Try to write to each directory until successful\n",
    "for output_dir in output_dirs:\n",
    "    try:\n",
    "        os.makedirs(output_dir, exist_ok=True)\n",
    "        run_file_path = os.path.join(output_dir, 'run.txt')\n",
    "        run.to_csv(run_file_path, sep='\\t', index=False, header=False)\n",
    "        logging.info(f\"Results saved to {run_file_path}\")\n",
    "        break  # Exit the loop if writing was successful\n",
    "    except OSError as e:\n",
    "        logging.warning(f\"Could not save to {output_dir}: {str(e)}\")\n",
    "else:\n",
    "    logging.error(\"Failed to save results to any output directory\")\n",
    "    raise RuntimeError(\"No writable output directory found\")\n",
    "\n",
    "# Persist and normalize the run if possible\n",
    "try:\n",
    "    persist_and_normalize_run(run, system_name='combined-bm25-bo1-tfidf-dirichlet', default_output='../runs')\n",
    "except Exception as e:\n",
    "    logging.warning(f\"Could not persist and normalize run: {str(e)}\")"
   ]
  }
 ],
 "metadata": {
  "kernelspec": {
   "display_name": "Python 3",
   "language": "python",
   "name": "python3"
  },
  "language_info": {
   "codemirror_mode": {
    "name": "ipython",
    "version": 3
   },
   "file_extension": ".py",
   "mimetype": "text/x-python",
   "name": "python",
   "nbconvert_exporter": "python",
   "pygments_lexer": "ipython3",
   "version": "3.11.5"
  }
 },
 "nbformat": 4,
 "nbformat_minor": 2
}