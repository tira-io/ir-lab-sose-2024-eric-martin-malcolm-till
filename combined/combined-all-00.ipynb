{
 "cells": [
  {
   "cell_type": "markdown",
   "metadata": {},
   "source": [
    "# IR Lab SoSe 2024: Combined Retrieval System\n",
    "\n",
    "This jupyter notebook serves as an improved retrieval system combining components from both provided notebooks.\n",
    "We will use a corpus of scientific papers (title + abstracts) from the fields of information retrieval and natural language processing (the [IR Anthology](https://ir.webis.de/anthology/) and the [ACL Anthology](https://aclanthology.org/)). This notebook serves as a retrieval system, i.e., it gets a set of information needs (topics) and a corpus as input and produces a run file as output. Please do evaluations in a new dedicated notebook."
   ]
  },
  {
   "cell_type": "markdown",
   "metadata": {},
   "source": [
    "### Step 1: Import Libraries"
   ]
  },
  {
   "cell_type": "code",
   "execution_count": null,
   "metadata": {},
   "outputs": [
    {
     "ename": "",
     "evalue": "",
     "output_type": "error",
     "traceback": [
      "\u001b[1;31mDas Ausführen von Zellen mit \".venv (Python 3.11.-1)\" erfordert das Paket ipykernel.\n",
      "\u001b[1;31mFühren Sie den folgenden Befehl aus, um „ipykernel“ in der Python-Umgebung zu installieren. \n",
      "\u001b[1;31mBefehl: '/Users/martinschlenk/Desktop/IRS-combined/combined/.venv/bin/python -m pip install ipykernel -U --force-reinstall'"
     ]
    }
   ],
   "source": [
    "# Imports\n",
    "from tira.third_party_integrations import ensure_pyterrier_is_loaded, persist_and_normalize_run\n",
    "from tira.rest_api_client import Client\n",
    "import pyterrier as pt\n",
    "import pandas as pd\n",
    "import os\n",
    "from transformers import BertTokenizer, BertForTokenClassification, pipeline\n",
    "import nltk\n",
    "from nltk.tokenize import word_tokenize\n",
    "\n",
    "nltk.download('punkt')\n",
    "\n",
    "ensure_pyterrier_is_loaded()\n",
    "tira = Client()"
   ]
  },
  {
   "cell_type": "markdown",
   "metadata": {},
   "source": [
    "### Step 2: Load the Dataset and the Index"
   ]
  },
  {
   "cell_type": "code",
   "execution_count": null,
   "metadata": {},
   "outputs": [
    {
     "ename": "",
     "evalue": "",
     "output_type": "error",
     "traceback": [
      "\u001b[1;31mDas Ausführen von Zellen mit \".venv (Python 3.11.-1)\" erfordert das Paket ipykernel.\n",
      "\u001b[1;31mFühren Sie den folgenden Befehl aus, um „ipykernel“ in der Python-Umgebung zu installieren. \n",
      "\u001b[1;31mBefehl: '/Users/martinschlenk/Desktop/IRS-combined/combined/.venv/bin/python -m pip install ipykernel -U --force-reinstall'"
     ]
    }
   ],
   "source": [
    "pt_dataset = pt.get_dataset('irds:ir-lab-sose-2024/ir-acl-anthology-20240504-training')\n",
    "index = tira.pt.index('ir-lab-sose-2024/tira-ir-starter/Index (tira-ir-starter-pyterrier)', pt_dataset)"
   ]
  },
  {
   "cell_type": "markdown",
   "metadata": {},
   "source": [
    "### Step 3: Define the Retrieval Pipeline"
   ]
  },
  {
   "cell_type": "code",
   "execution_count": null,
   "metadata": {},
   "outputs": [
    {
     "ename": "",
     "evalue": "",
     "output_type": "error",
     "traceback": [
      "\u001b[1;31mDas Ausführen von Zellen mit \".venv (Python 3.11.-1)\" erfordert das Paket ipykernel.\n",
      "\u001b[1;31mFühren Sie den folgenden Befehl aus, um „ipykernel“ in der Python-Umgebung zu installieren. \n",
      "\u001b[1;31mBefehl: '/Users/martinschlenk/Desktop/IRS-combined/combined/.venv/bin/python -m pip install ipykernel -U --force-reinstall'"
     ]
    }
   ],
   "source": [
    "# Base retrieval model with BM25\n",
    "bm25 = pt.BatchRetrieve(index, wmodel=\"BM25\")\n",
    "\n",
    "# Query expansion with Bo1\n",
    "bo1_expansion = pt.rewrite.Bo1QueryExpansion(index, fb_docs=10, fb_terms=20)\n",
    "bm25_bo1 = bm25 >> bo1_expansion >> bm25\n",
    "\n",
    "# Additional reranking models\n",
    "tf_idf = pt.BatchRetrieve(index, wmodel=\"TF_IDF\")\n",
    "dirichletLM = pt.BatchRetrieve(index, wmodel=\"DirichletLM\")\n",
    "\n",
    "# Combined retrieval pipeline\n",
    "combined_pipeline = bm25_bo1 + 2 * tf_idf + 2 * dirichletLM"
   ]
  },
  {
   "cell_type": "markdown",
   "metadata": {},
   "source": [
    "### Step 4: Create the Run"
   ]
  },
  {
   "cell_type": "code",
   "execution_count": null,
   "metadata": {},
   "outputs": [
    {
     "ename": "",
     "evalue": "",
     "output_type": "error",
     "traceback": [
      "\u001b[1;31mDas Ausführen von Zellen mit \".venv (Python 3.11.-1)\" erfordert das Paket ipykernel.\n",
      "\u001b[1;31mFühren Sie den folgenden Befehl aus, um „ipykernel“ in der Python-Umgebung zu installieren. \n",
      "\u001b[1;31mBefehl: '/Users/martinschlenk/Desktop/IRS-combined/combined/.venv/bin/python -m pip install ipykernel -U --force-reinstall'"
     ]
    }
   ],
   "source": [
    "print('First, we have a short look at the first three topics:')\n",
    "topics = pt_dataset.get_topics('text')\n",
    "print(topics.head(3))\n",
    "\n",
    "# Query Segmentation\n",
    "tokenizer = BertTokenizer.from_pretrained(\"dbmdz/bert-large-cased-finetuned-conll03-english\")\n",
    "model = BertForTokenClassification.from_pretrained(\"dbmdz/bert-large-cased-finetuned-conll03-english\")\n",
    "nlp = pipeline(\"ner\", model=model, tokenizer=tokenizer)\n",
    "\n",
    "domain_specific_terms = [\n",
    "    \"natural language processing\", \"NLP\", \"information retrieval\", \"IR\",\n",
    "    \"machine learning\", \"deep learning\", \"neural network\", \"text mining\",\n",
    "    # ... (full list of domain-specific terms)\n",
    "]\n",
    "\n",
    "def advanced_segment_query(query):\n",
    "    ner_results = nlp(query)\n",
    "    segments = set(result['word'] for result in ner_results if result['entity'] in ['B-PER', 'I-PER', 'B-ORG', 'I-ORG', 'B-LOC', 'I-LOC', 'B-MISC', 'I-MISC'])\n",
    "    for term in domain_specific_terms:\n",
    "        if term in query:\n",
    "            segments.add(term)\n",
    "    if not segments:\n",
    "        segments = word_tokenize(query)\n",
    "    return \" \".join(segments)\n",
    "\n",
    "print('Segmenting the queries...')\n",
    "segmented_topics = topics.copy()\n",
    "segmented_topics['query'] = segmented_topics['query'].apply(advanced_segment_query)\n",
    "print(segmented_topics.head(3))\n",
    "\n",
    "print('Now we do the retrieval...')\n",
    "run = combined_pipeline.transform(segmented_topics)\n",
    "\n",
    "print('Done. Here are the first 10 entries of the run')\n",
    "print(run.head(10))"
   ]
  },
  {
   "cell_type": "markdown",
   "metadata": {},
   "source": [
    "### Step 5: Persist the run file for subsequent evaluations"
   ]
  },
  {
   "cell_type": "code",
   "execution_count": null,
   "metadata": {},
   "outputs": [
    {
     "ename": "",
     "evalue": "",
     "output_type": "error",
     "traceback": [
      "\u001b[1;31mDas Ausführen von Zellen mit \".venv (Python 3.11.-1)\" erfordert das Paket ipykernel.\n",
      "\u001b[1;31mFühren Sie den folgenden Befehl aus, um „ipykernel“ in der Python-Umgebung zu installieren. \n",
      "\u001b[1;31mBefehl: '/Users/martinschlenk/Desktop/IRS-combined/combined/.venv/bin/python -m pip install ipykernel -U --force-reinstall'"
     ]
    }
   ],
   "source": [
    "os.makedirs('../runs', exist_ok=True)\n",
    "persist_and_normalize_run(run, system_name='combined-bm25-bo1-tfidf-dirichlet', default_output='../runs')\n",
    "print('Run file is stored under \"../runs/run.txt\".')"
   ]
  }
 ],
 "metadata": {
  "kernelspec": {
   "display_name": "Python 3",
   "language": "python",
   "name": "python3"
  },
  "language_info": {
   "codemirror_mode": {
    "name": "ipython",
    "version": 3
   },
   "file_extension": ".py",
   "mimetype": "text/x-python",
   "name": "python",
   "nbconvert_exporter": "python",
   "pygments_lexer": "ipython3",
   "version": "3.11.5"
  }
 },
 "nbformat": 4,
 "nbformat_minor": 2
}
