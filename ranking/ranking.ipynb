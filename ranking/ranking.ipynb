{
 "cells": [
  {
   "cell_type": "markdown",
   "metadata": {},
   "source": [
    "# IR Lab SoSe 2024: Baseline Retrieval System\n",
    "\n",
    "This jupyter notebook serves as baseline retrieval system that you can try to improve upon.\n",
    "We will use the a corpus of scientific papers (title + abstracts) from the fields of information retrieval and natural language processing (the [IR Anthology](https://ir.webis.de/anthology/) and the [ACL Anthology](https://aclanthology.org/)). This serves Jupyter notebook only serves as retrieval system, i.e., it gets a set of information needs (topics) and a corpus as input and produces a run file as output. Please do evaluations in a new dedicated notebook."
   ]
  },
  {
   "cell_type": "markdown",
   "metadata": {},
   "source": [
    "### Step 1: Import Libraries\n",
    "\n",
    "We will use [tira](https://www.tira.io/), an information retrieval shared task platform, for loading the (pre-built) retrieval index and [ir_dataset](https://ir-datasets.com/) to subsequently build a retrieval system with [PyTerrier](https://github.com/terrier-org/pyterrier), an open-source search engine.\n",
    "\n",
    "Building your own index can be already one way that you can try to improve upon this baseline (if you want to focus on creating good document representations). Other ways could include reformulating queries or tuning parameters or building better retrieval pipelines."
   ]
  },
  {
   "cell_type": "code",
   "execution_count": 7,
   "metadata": {},
   "outputs": [
    {
     "name": "stdout",
     "output_type": "stream",
     "text": [
      "Requirement already satisfied: tira in c:\\users\\docto\\appdata\\local\\programs\\python\\python39\\lib\\site-packages (0.0.132)\n",
      "Requirement already satisfied: ir-datasets in c:\\users\\docto\\appdata\\local\\programs\\python\\python39\\lib\\site-packages (0.5.8)\n",
      "Requirement already satisfied: python-terrier in c:\\users\\docto\\appdata\\local\\programs\\python\\python39\\lib\\site-packages (0.10.1)\n",
      "Requirement already satisfied: pandas in c:\\users\\docto\\appdata\\local\\programs\\python\\python39\\lib\\site-packages (from tira) (2.2.2)\n",
      "Requirement already satisfied: docker==6.*,>=6.0.0 in c:\\users\\docto\\appdata\\local\\programs\\python\\python39\\lib\\site-packages (from tira) (6.1.3)\n",
      "Requirement already satisfied: tqdm in c:\\users\\docto\\appdata\\local\\programs\\python\\python39\\lib\\site-packages (from tira) (4.66.4)\n",
      "Requirement already satisfied: requests==2.*,>=2.26 in c:\\users\\docto\\appdata\\local\\programs\\python\\python39\\lib\\site-packages (from tira) (2.32.3)\n",
      "Requirement already satisfied: urllib3>=1.26.0 in c:\\users\\docto\\appdata\\local\\programs\\python\\python39\\lib\\site-packages (from docker==6.*,>=6.0.0->tira) (2.2.2)\n",
      "Requirement already satisfied: pywin32>=304 in c:\\users\\docto\\appdata\\roaming\\python\\python39\\site-packages (from docker==6.*,>=6.0.0->tira) (306)\n",
      "Requirement already satisfied: packaging>=14.0 in c:\\users\\docto\\appdata\\roaming\\python\\python39\\site-packages (from docker==6.*,>=6.0.0->tira) (24.1)\n",
      "Requirement already satisfied: websocket-client>=0.32.0 in c:\\users\\docto\\appdata\\local\\programs\\python\\python39\\lib\\site-packages (from docker==6.*,>=6.0.0->tira) (1.8.0)\n",
      "Requirement already satisfied: idna<4,>=2.5 in c:\\users\\docto\\appdata\\local\\programs\\python\\python39\\lib\\site-packages (from requests==2.*,>=2.26->tira) (3.7)\n",
      "Requirement already satisfied: charset-normalizer<4,>=2 in c:\\users\\docto\\appdata\\local\\programs\\python\\python39\\lib\\site-packages (from requests==2.*,>=2.26->tira) (3.3.2)\n",
      "Requirement already satisfied: certifi>=2017.4.17 in c:\\users\\docto\\appdata\\local\\programs\\python\\python39\\lib\\site-packages (from requests==2.*,>=2.26->tira) (2024.6.2)\n",
      "Requirement already satisfied: warc3-wet>=0.2.3 in c:\\users\\docto\\appdata\\local\\programs\\python\\python39\\lib\\site-packages (from ir-datasets) (0.2.3)\n",
      "Requirement already satisfied: warc3-wet-clueweb09>=0.2.5 in c:\\users\\docto\\appdata\\local\\programs\\python\\python39\\lib\\site-packages (from ir-datasets) (0.2.5)\n",
      "Requirement already satisfied: pyyaml>=5.3.1 in c:\\users\\docto\\appdata\\local\\programs\\python\\python39\\lib\\site-packages (from ir-datasets) (6.0.1)\n",
      "Requirement already satisfied: inscriptis>=2.2.0 in c:\\users\\docto\\appdata\\local\\programs\\python\\python39\\lib\\site-packages (from ir-datasets) (2.5.0)\n",
      "Requirement already satisfied: lxml>=4.5.2 in c:\\users\\docto\\appdata\\local\\programs\\python\\python39\\lib\\site-packages (from ir-datasets) (5.2.2)\n",
      "Requirement already satisfied: trec-car-tools>=2.5.4 in c:\\users\\docto\\appdata\\local\\programs\\python\\python39\\lib\\site-packages (from ir-datasets) (2.6)\n",
      "Requirement already satisfied: beautifulsoup4>=4.4.1 in c:\\users\\docto\\appdata\\local\\programs\\python\\python39\\lib\\site-packages (from ir-datasets) (4.12.3)\n",
      "Requirement already satisfied: lz4>=3.1.10 in c:\\users\\docto\\appdata\\local\\programs\\python\\python39\\lib\\site-packages (from ir-datasets) (4.3.3)\n",
      "Requirement already satisfied: unlzw3>=0.2.1 in c:\\users\\docto\\appdata\\local\\programs\\python\\python39\\lib\\site-packages (from ir-datasets) (0.2.2)\n",
      "Requirement already satisfied: numpy>=1.18.1 in c:\\users\\docto\\appdata\\local\\programs\\python\\python39\\lib\\site-packages (from ir-datasets) (2.0.0)\n",
      "Requirement already satisfied: zlib-state>=0.1.3 in c:\\users\\docto\\appdata\\local\\programs\\python\\python39\\lib\\site-packages (from ir-datasets) (0.1.6)\n",
      "Requirement already satisfied: ijson>=3.1.3 in c:\\users\\docto\\appdata\\local\\programs\\python\\python39\\lib\\site-packages (from ir-datasets) (3.3.0)\n",
      "Requirement already satisfied: wget in c:\\users\\docto\\appdata\\local\\programs\\python\\python39\\lib\\site-packages (from python-terrier) (3.2)\n",
      "Requirement already satisfied: pyjnius>=1.4.2 in c:\\users\\docto\\appdata\\local\\programs\\python\\python39\\lib\\site-packages (from python-terrier) (1.6.1)\n",
      "Requirement already satisfied: matchpy in c:\\users\\docto\\appdata\\local\\programs\\python\\python39\\lib\\site-packages (from python-terrier) (0.5.5)\n",
      "Requirement already satisfied: deprecated in c:\\users\\docto\\appdata\\local\\programs\\python\\python39\\lib\\site-packages (from python-terrier) (1.2.14)\n",
      "Requirement already satisfied: chest in c:\\users\\docto\\appdata\\local\\programs\\python\\python39\\lib\\site-packages (from python-terrier) (0.2.3)\n",
      "Requirement already satisfied: scipy in c:\\users\\docto\\appdata\\local\\programs\\python\\python39\\lib\\site-packages (from python-terrier) (1.13.1)\n",
      "Requirement already satisfied: joblib in c:\\users\\docto\\appdata\\local\\programs\\python\\python39\\lib\\site-packages (from python-terrier) (1.4.2)\n",
      "Requirement already satisfied: nptyping==1.4.4 in c:\\users\\docto\\appdata\\local\\programs\\python\\python39\\lib\\site-packages (from python-terrier) (1.4.4)\n",
      "Requirement already satisfied: more_itertools in c:\\users\\docto\\appdata\\local\\programs\\python\\python39\\lib\\site-packages (from python-terrier) (10.3.0)\n",
      "Requirement already satisfied: jinja2 in c:\\users\\docto\\appdata\\local\\programs\\python\\python39\\lib\\site-packages (from python-terrier) (3.1.4)\n",
      "Requirement already satisfied: statsmodels in c:\\users\\docto\\appdata\\local\\programs\\python\\python39\\lib\\site-packages (from python-terrier) (0.14.2)\n",
      "Requirement already satisfied: ir_measures>=0.3.1 in c:\\users\\docto\\appdata\\local\\programs\\python\\python39\\lib\\site-packages (from python-terrier) (0.3.3)\n",
      "Requirement already satisfied: dill in c:\\users\\docto\\appdata\\local\\programs\\python\\python39\\lib\\site-packages (from python-terrier) (0.3.8)\n",
      "Requirement already satisfied: pytrec_eval_terrier>=0.5.3 in c:\\users\\docto\\appdata\\local\\programs\\python\\python39\\lib\\site-packages (from python-terrier) (0.5.6)\n",
      "Requirement already satisfied: typish>=1.7.0 in c:\\users\\docto\\appdata\\local\\programs\\python\\python39\\lib\\site-packages (from nptyping==1.4.4->python-terrier) (1.9.3)\n",
      "Requirement already satisfied: soupsieve>1.2 in c:\\users\\docto\\appdata\\local\\programs\\python\\python39\\lib\\site-packages (from beautifulsoup4>=4.4.1->ir-datasets) (2.5)\n",
      "Requirement already satisfied: cwl-eval>=1.0.10 in c:\\users\\docto\\appdata\\local\\programs\\python\\python39\\lib\\site-packages (from ir_measures>=0.3.1->python-terrier) (1.0.12)\n",
      "Requirement already satisfied: colorama in c:\\users\\docto\\appdata\\roaming\\python\\python39\\site-packages (from tqdm->tira) (0.4.6)\n",
      "Requirement already satisfied: cbor>=1.0.0 in c:\\users\\docto\\appdata\\local\\programs\\python\\python39\\lib\\site-packages (from trec-car-tools>=2.5.4->ir-datasets) (1.0.0)\n",
      "Requirement already satisfied: heapdict in c:\\users\\docto\\appdata\\local\\programs\\python\\python39\\lib\\site-packages (from chest->python-terrier) (1.0.1)\n",
      "Requirement already satisfied: wrapt<2,>=1.10 in c:\\users\\docto\\appdata\\local\\programs\\python\\python39\\lib\\site-packages (from deprecated->python-terrier) (1.16.0)\n",
      "Requirement already satisfied: MarkupSafe>=2.0 in c:\\users\\docto\\appdata\\local\\programs\\python\\python39\\lib\\site-packages (from jinja2->python-terrier) (2.1.5)\n",
      "Requirement already satisfied: multiset<3.0,>=2.0 in c:\\users\\docto\\appdata\\local\\programs\\python\\python39\\lib\\site-packages (from matchpy->python-terrier) (2.1.1)\n",
      "Requirement already satisfied: tzdata>=2022.7 in c:\\users\\docto\\appdata\\local\\programs\\python\\python39\\lib\\site-packages (from pandas->tira) (2024.1)\n",
      "Requirement already satisfied: pytz>=2020.1 in c:\\users\\docto\\appdata\\local\\programs\\python\\python39\\lib\\site-packages (from pandas->tira) (2024.1)\n",
      "Requirement already satisfied: python-dateutil>=2.8.2 in c:\\users\\docto\\appdata\\roaming\\python\\python39\\site-packages (from pandas->tira) (2.9.0.post0)\n",
      "Requirement already satisfied: six>=1.5 in c:\\users\\docto\\appdata\\roaming\\python\\python39\\site-packages (from python-dateutil>=2.8.2->pandas->tira) (1.16.0)\n",
      "Requirement already satisfied: patsy>=0.5.6 in c:\\users\\docto\\appdata\\local\\programs\\python\\python39\\lib\\site-packages (from statsmodels->python-terrier) (0.5.6)\n"
     ]
    },
    {
     "name": "stderr",
     "output_type": "stream",
     "text": [
      "WARNING: You are using pip version 21.2.4; however, version 24.1 is available.\n",
      "You should consider upgrading via the 'C:\\Users\\Docto\\AppData\\Local\\Programs\\Python\\Python39\\python.exe -m pip install --upgrade pip' command.\n"
     ]
    }
   ],
   "source": [
    "# You only need to execute this cell if you are using Google Golab.\n",
    "# If you use GitHub Codespaces, everything is already installed.\n",
    "!pip3 install tira ir-datasets python-terrier"
   ]
  },
  {
   "cell_type": "code",
   "execution_count": 6,
   "metadata": {},
   "outputs": [
    {
     "name": "stderr",
     "output_type": "stream",
     "text": [
      "c:\\Users\\Docto\\AppData\\Local\\Programs\\Python\\Python39\\lib\\site-packages\\tqdm\\auto.py:21: TqdmWarning: IProgress not found. Please update jupyter and ipywidgets. See https://ipywidgets.readthedocs.io/en/stable/user_install.html\n",
      "  from .autonotebook import tqdm as notebook_tqdm\n"
     ]
    }
   ],
   "source": [
    "# Imports\n",
    "from tira.third_party_integrations import ensure_pyterrier_is_loaded, persist_and_normalize_run\n",
    "from tira.rest_api_client import Client\n",
    "import pyterrier as pt"
   ]
  },
  {
   "cell_type": "code",
   "execution_count": 30,
   "metadata": {},
   "outputs": [
    {
     "ename": "Exception",
     "evalue": "Unable to find JAVA_HOME",
     "output_type": "error",
     "traceback": [
      "\u001b[1;31m---------------------------------------------------------------------------\u001b[0m",
      "\u001b[1;31mException\u001b[0m                                 Traceback (most recent call last)",
      "Cell \u001b[1;32mIn[30], line 2\u001b[0m\n\u001b[0;32m      1\u001b[0m \u001b[38;5;66;03m# Create a REST client to the TIRA platform for retrieving the pre-indexed data.\u001b[39;00m\n\u001b[1;32m----> 2\u001b[0m \u001b[43mensure_pyterrier_is_loaded\u001b[49m\u001b[43m(\u001b[49m\u001b[43m)\u001b[49m\n\u001b[0;32m      3\u001b[0m tira \u001b[38;5;241m=\u001b[39m Client()\n",
      "File \u001b[1;32mc:\\Users\\Docto\\AppData\\Local\\Programs\\Python\\Python39\\lib\\site-packages\\tira\\third_party_integrations.py:30\u001b[0m, in \u001b[0;36mensure_pyterrier_is_loaded\u001b[1;34m(boot_packages, packages, patch_ir_datasets)\u001b[0m\n\u001b[0;32m     28\u001b[0m \u001b[38;5;28;01mif\u001b[39;00m \u001b[38;5;129;01mnot\u001b[39;00m pt\u001b[38;5;241m.\u001b[39mstarted():\n\u001b[0;32m     29\u001b[0m     logging\u001b[38;5;241m.\u001b[39minfo(\u001b[38;5;124mf\u001b[39m\u001b[38;5;124m'\u001b[39m\u001b[38;5;124mStart PyTerrier with version=\u001b[39m\u001b[38;5;132;01m{\u001b[39;00mpt_version\u001b[38;5;132;01m}\u001b[39;00m\u001b[38;5;124m, helper_version=\u001b[39m\u001b[38;5;132;01m{\u001b[39;00mpt_helper_version\u001b[38;5;132;01m}\u001b[39;00m\u001b[38;5;124m, no_download=True\u001b[39m\u001b[38;5;124m'\u001b[39m)\n\u001b[1;32m---> 30\u001b[0m     \u001b[43mpt\u001b[49m\u001b[38;5;241;43m.\u001b[39;49m\u001b[43minit\u001b[49m\u001b[43m(\u001b[49m\u001b[43mversion\u001b[49m\u001b[38;5;241;43m=\u001b[39;49m\u001b[43mpt_version\u001b[49m\u001b[43m,\u001b[49m\u001b[43m \u001b[49m\u001b[43mhelper_version\u001b[49m\u001b[38;5;241;43m=\u001b[39;49m\u001b[43mpt_helper_version\u001b[49m\u001b[43m,\u001b[49m\u001b[43m \u001b[49m\u001b[43mno_download\u001b[49m\u001b[38;5;241;43m=\u001b[39;49m\u001b[38;5;28;43;01mTrue\u001b[39;49;00m\u001b[43m,\u001b[49m\u001b[43m \u001b[49m\u001b[43mboot_packages\u001b[49m\u001b[38;5;241;43m=\u001b[39;49m\u001b[38;5;28;43mlist\u001b[39;49m\u001b[43m(\u001b[49m\u001b[43mboot_packages\u001b[49m\u001b[43m)\u001b[49m\u001b[43m,\u001b[49m\u001b[43m \u001b[49m\u001b[43mpackages\u001b[49m\u001b[38;5;241;43m=\u001b[39;49m\u001b[38;5;28;43mlist\u001b[39;49m\u001b[43m(\u001b[49m\u001b[43mpackages\u001b[49m\u001b[43m)\u001b[49m\u001b[43m)\u001b[49m\n",
      "File \u001b[1;32mc:\\Users\\Docto\\AppData\\Local\\Programs\\Python\\Python39\\lib\\site-packages\\pyterrier\\__init__.py:128\u001b[0m, in \u001b[0;36minit\u001b[1;34m(version, mem, packages, jvm_opts, redirect_io, logging, home_dir, boot_packages, tqdm, no_download, helper_version)\u001b[0m\n\u001b[0;32m    126\u001b[0m \u001b[38;5;28;01mif\u001b[39;00m mem \u001b[38;5;129;01mis\u001b[39;00m \u001b[38;5;129;01mnot\u001b[39;00m \u001b[38;5;28;01mNone\u001b[39;00m:\n\u001b[0;32m    127\u001b[0m     jnius_config\u001b[38;5;241m.\u001b[39madd_options(\u001b[38;5;124m'\u001b[39m\u001b[38;5;124m-Xmx\u001b[39m\u001b[38;5;124m'\u001b[39m \u001b[38;5;241m+\u001b[39m \u001b[38;5;28mstr\u001b[39m(mem) \u001b[38;5;241m+\u001b[39m \u001b[38;5;124m'\u001b[39m\u001b[38;5;124mm\u001b[39m\u001b[38;5;124m'\u001b[39m)\n\u001b[1;32m--> 128\u001b[0m \u001b[38;5;28;01mfrom\u001b[39;00m \u001b[38;5;21;01mjnius\u001b[39;00m \u001b[38;5;28;01mimport\u001b[39;00m autoclass, cast\n\u001b[0;32m    130\u001b[0m \u001b[38;5;66;03m# we only accept Java version 11 and newer; so anything starting 1. or 9. is too old\u001b[39;00m\n\u001b[0;32m    131\u001b[0m java_version \u001b[38;5;241m=\u001b[39m autoclass(\u001b[38;5;124m\"\u001b[39m\u001b[38;5;124mjava.lang.System\u001b[39m\u001b[38;5;124m\"\u001b[39m)\u001b[38;5;241m.\u001b[39mgetProperty(\u001b[38;5;124m\"\u001b[39m\u001b[38;5;124mjava.version\u001b[39m\u001b[38;5;124m\"\u001b[39m)\n",
      "File \u001b[1;32mc:\\Users\\Docto\\AppData\\Local\\Programs\\Python\\Python39\\lib\\site-packages\\jnius\\__init__.py:18\u001b[0m\n\u001b[0;32m     16\u001b[0m \u001b[38;5;28;01mif\u001b[39;00m sys\u001b[38;5;241m.\u001b[39mplatform \u001b[38;5;241m==\u001b[39m \u001b[38;5;124m'\u001b[39m\u001b[38;5;124mwin32\u001b[39m\u001b[38;5;124m'\u001b[39m \u001b[38;5;129;01mand\u001b[39;00m sys\u001b[38;5;241m.\u001b[39mversion_info \u001b[38;5;241m>\u001b[39m\u001b[38;5;241m=\u001b[39m (\u001b[38;5;241m3\u001b[39m, \u001b[38;5;241m8\u001b[39m):\n\u001b[0;32m     17\u001b[0m     path \u001b[38;5;241m=\u001b[39m os\u001b[38;5;241m.\u001b[39mpath\u001b[38;5;241m.\u001b[39mdirname(\u001b[38;5;18m__file__\u001b[39m)\n\u001b[1;32m---> 18\u001b[0m     java \u001b[38;5;241m=\u001b[39m \u001b[43mget_java_setup\u001b[49m\u001b[43m(\u001b[49m\u001b[43msys\u001b[49m\u001b[38;5;241;43m.\u001b[39;49m\u001b[43mplatform\u001b[49m\u001b[43m)\u001b[49m\n\u001b[0;32m     19\u001b[0m     jdk_home \u001b[38;5;241m=\u001b[39m java\u001b[38;5;241m.\u001b[39mget_javahome()\n\u001b[0;32m     20\u001b[0m     \u001b[38;5;28;01mwith\u001b[39;00m os\u001b[38;5;241m.\u001b[39madd_dll_directory(path):\n",
      "File \u001b[1;32mc:\\Users\\Docto\\AppData\\Local\\Programs\\Python\\Python39\\lib\\site-packages\\jnius\\env.py:60\u001b[0m, in \u001b[0;36mget_java_setup\u001b[1;34m(platform)\u001b[0m\n\u001b[0;32m     58\u001b[0m \u001b[38;5;66;03m# go hunting for Javac and Java programs, in that order\u001b[39;00m\n\u001b[0;32m     59\u001b[0m \u001b[38;5;28;01mif\u001b[39;00m \u001b[38;5;129;01mnot\u001b[39;00m is_set(JAVA_HOME):\n\u001b[1;32m---> 60\u001b[0m     JAVA_HOME \u001b[38;5;241m=\u001b[39m \u001b[43mget_jdk_home\u001b[49m\u001b[43m(\u001b[49m\u001b[43mplatform\u001b[49m\u001b[43m)\u001b[49m\n\u001b[0;32m     62\u001b[0m \u001b[38;5;28;01mif\u001b[39;00m \u001b[38;5;129;01mnot\u001b[39;00m is_set(JAVA_HOME):\n\u001b[0;32m     63\u001b[0m     JAVA_HOME \u001b[38;5;241m=\u001b[39m get_jre_home(platform)\n",
      "File \u001b[1;32mc:\\Users\\Docto\\AppData\\Local\\Programs\\Python\\Python39\\lib\\site-packages\\jnius\\env.py:335\u001b[0m, in \u001b[0;36mget_jdk_home\u001b[1;34m(platform)\u001b[0m\n\u001b[0;32m    333\u001b[0m TMP_JDK_HOME \u001b[38;5;241m=\u001b[39m getenv(\u001b[38;5;124m'\u001b[39m\u001b[38;5;124mJAVA_HOME\u001b[39m\u001b[38;5;124m'\u001b[39m)\n\u001b[0;32m    334\u001b[0m \u001b[38;5;28;01mif\u001b[39;00m \u001b[38;5;129;01mnot\u001b[39;00m TMP_JDK_HOME:\n\u001b[1;32m--> 335\u001b[0m     \u001b[38;5;28;01mraise\u001b[39;00m \u001b[38;5;167;01mException\u001b[39;00m(\u001b[38;5;124m'\u001b[39m\u001b[38;5;124mUnable to find JAVA_HOME\u001b[39m\u001b[38;5;124m'\u001b[39m)\n\u001b[0;32m    337\u001b[0m \u001b[38;5;66;03m# Remove /bin if it's appended to JAVA_HOME\u001b[39;00m\n\u001b[0;32m    338\u001b[0m \u001b[38;5;28;01mif\u001b[39;00m TMP_JDK_HOME[\u001b[38;5;241m-\u001b[39m\u001b[38;5;241m3\u001b[39m:] \u001b[38;5;241m==\u001b[39m \u001b[38;5;124m'\u001b[39m\u001b[38;5;124mbin\u001b[39m\u001b[38;5;124m'\u001b[39m:\n",
      "\u001b[1;31mException\u001b[0m: Unable to find JAVA_HOME"
     ]
    }
   ],
   "source": [
    "# Create a REST client to the TIRA platform for retrieving the pre-indexed data.\n",
    "ensure_pyterrier_is_loaded()\n",
    "tira = Client()"
   ]
  },
  {
   "cell_type": "markdown",
   "metadata": {},
   "source": [
    "### Step 2: Load the Dataset and the Index\n",
    "\n",
    "The type of the index object that we load is `<class 'jnius.reflect.org.terrier.structures.Index'>`, in fact a [Java class](http://terrier.org/docs/v3.6/javadoc/org/terrier/structures/Index.html) wrapped into Python. However, you do not need to worry about this: at this point, we will simply use the provided Index object to run procedures defined in Python."
   ]
  },
  {
   "cell_type": "code",
   "execution_count": 37,
   "metadata": {},
   "outputs": [
    {
     "ename": "AttributeError",
     "evalue": "module 'pyterrier' has no attribute 'get_dataset'",
     "output_type": "error",
     "traceback": [
      "\u001b[1;31m---------------------------------------------------------------------------\u001b[0m",
      "\u001b[1;31mAttributeError\u001b[0m                            Traceback (most recent call last)",
      "Cell \u001b[1;32mIn[37], line 3\u001b[0m\n\u001b[0;32m      1\u001b[0m \u001b[38;5;66;03m# The dataset: the union of the IR Anthology and the ACL Anthology\u001b[39;00m\n\u001b[0;32m      2\u001b[0m \u001b[38;5;66;03m# This line creates an IRDSDataset object and registers it under the name provided as an argument.\u001b[39;00m\n\u001b[1;32m----> 3\u001b[0m pt_dataset \u001b[38;5;241m=\u001b[39m \u001b[43mpt\u001b[49m\u001b[38;5;241;43m.\u001b[39;49m\u001b[43mget_dataset\u001b[49m(\u001b[38;5;124m'\u001b[39m\u001b[38;5;124mirds:ir-lab-sose-2024/ir-acl-anthology-20240504-training\u001b[39m\u001b[38;5;124m'\u001b[39m)\n\u001b[0;32m      5\u001b[0m \u001b[38;5;66;03m# A (pre-built) PyTerrier index loaded from TIRA\u001b[39;00m\n\u001b[0;32m      6\u001b[0m index \u001b[38;5;241m=\u001b[39m tira\u001b[38;5;241m.\u001b[39mpt\u001b[38;5;241m.\u001b[39mindex(\u001b[38;5;124m'\u001b[39m\u001b[38;5;124mir-lab-sose-2024/tira-ir-starter/Index (tira-ir-starter-pyterrier)\u001b[39m\u001b[38;5;124m'\u001b[39m, pt_dataset)\n",
      "\u001b[1;31mAttributeError\u001b[0m: module 'pyterrier' has no attribute 'get_dataset'"
     ]
    }
   ],
   "source": [
    "# The dataset: the union of the IR Anthology and the ACL Anthology\n",
    "# This line creates an IRDSDataset object and registers it under the name provided as an argument.\n",
    "pt_dataset = pt.get_dataset('irds:ir-lab-sose-2024/ir-acl-anthology-20240504-training')\n",
    "\n",
    "# A (pre-built) PyTerrier index loaded from TIRA\n",
    "index = tira.pt.index('ir-lab-sose-2024/tira-ir-starter/Index (tira-ir-starter-pyterrier)', pt_dataset)"
   ]
  },
  {
   "cell_type": "markdown",
   "metadata": {},
   "source": [
    "### Step 3: Define the Retrieval Pipeline\n",
    "\n",
    "We will define a BM25 retrieval pipeline as baseline. For details, see:\n",
    "\n",
    "- [https://pyterrier.readthedocs.io](https://pyterrier.readthedocs.io)\n",
    "- [https://github.com/terrier-org/ecir2021tutorial](https://github.com/terrier-org/ecir2021tutorial)"
   ]
  },
  {
   "cell_type": "code",
   "execution_count": null,
   "metadata": {},
   "outputs": [],
   "source": [
    "#base retrieval model for candidate set with bm25\n",
    "#additional models tf and pl2 serve as re-rankers in pipeline\n",
    "#pipeline = pt.FeaturesBatchRetrieve(index, wmodel=\"BM25\", features=[\"WMODEL:Tf\", \"WMODEL:PL2\"])\n",
    "bm25 = pt.BatchRetrieve(index, wmodel=\"BM25\")\n",
    "tf = pt.BatchRetrieve(index, wmodel=\"Tf\")\n",
    "pl2 = pt.BatchRetrieve(index, wmodel=\"PL2\")\n",
    "pipeline = bm25 >> (tf ** pl2)"
   ]
  },
  {
   "cell_type": "markdown",
   "metadata": {},
   "source": [
    "### Step 4: Create the Run\n"
   ]
  },
  {
   "cell_type": "code",
   "execution_count": null,
   "metadata": {},
   "outputs": [],
   "source": [
    "print('First, we have a short look at the first three topics:')\n",
    "\n",
    "pt_dataset.get_topics('text').head(3)"
   ]
  },
  {
   "cell_type": "code",
   "execution_count": null,
   "metadata": {},
   "outputs": [],
   "source": [
    "print('Now we do the retrieval...')\n",
    "run = pipeline(pt_dataset.get_topics('text'))\n",
    "\n",
    "print('Done. Here are the first 10 entries of the run')\n",
    "run.head(9)"
   ]
  },
  {
   "cell_type": "markdown",
   "metadata": {},
   "source": [
    "### Step 5: Persist the run file for subsequent evaluations\n",
    "\n",
    "The output of a prototypical retrieval system is a run file. This run file can later (optimally in a different notebook) be statistically evaluated."
   ]
  },
  {
   "cell_type": "code",
   "execution_count": null,
   "metadata": {},
   "outputs": [],
   "source": [
    "persist_and_normalize_run(run, system_name='bm25-baseline', default_output='../runs')"
   ]
  }
 ],
 "metadata": {
  "kernelspec": {
   "display_name": "Python 3",
   "language": "python",
   "name": "python3"
  },
  "language_info": {
   "codemirror_mode": {
    "name": "ipython",
    "version": 3
   },
   "file_extension": ".py",
   "mimetype": "text/x-python",
   "name": "python",
   "nbconvert_exporter": "python",
   "pygments_lexer": "ipython3",
   "version": "3.9.9"
  }
 },
 "nbformat": 4,
 "nbformat_minor": 2
}
