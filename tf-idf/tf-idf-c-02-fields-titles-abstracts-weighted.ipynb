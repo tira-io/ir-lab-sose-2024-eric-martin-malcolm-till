{
 "cells": [
  {
   "cell_type": "markdown",
   "metadata": {},
   "source": [
    "# IR Lab SoSe 2024: Erweitertes Retrieval System mit gewichtetem TF-IDF\n",
    "\n",
    "Dieses Jupyter Notebook implementiert ein erweitertes Retrieval-System, das TF-IDF verwendet und zusätzlich die einzelnen Felder (Titel und Abstract) gewichtet.\n",
    "Wir verwenden ein Korpus wissenschaftlicher Arbeiten (Titel + Abstracts) aus den Bereichen Information Retrieval und Natural Language Processing."
   ]
  },
  {
   "cell_type": "markdown",
   "metadata": {},
   "source": [
    "### Schritt 1: Bibliotheken importieren"
   ]
  },
  {
   "cell_type": "code",
   "execution_count": 1,
   "metadata": {},
   "outputs": [
    {
     "name": "stderr",
     "output_type": "stream",
     "text": [
      "/opt/homebrew/lib/python3.11/site-packages/tqdm/auto.py:21: TqdmWarning: IProgress not found. Please update jupyter and ipywidgets. See https://ipywidgets.readthedocs.io/en/stable/user_install.html\n",
      "  from .autonotebook import tqdm as notebook_tqdm\n"
     ]
    }
   ],
   "source": [
    "# Imports\n",
    "from tira.third_party_integrations import ensure_pyterrier_is_loaded, persist_and_normalize_run\n",
    "from tira.rest_api_client import Client\n",
    "import pyterrier as pt\n",
    "from pyterrier.pipelines import *"
   ]
  },
  {
   "cell_type": "code",
   "execution_count": 2,
   "metadata": {},
   "outputs": [
    {
     "name": "stderr",
     "output_type": "stream",
     "text": [
      "PyTerrier 0.10.1 has loaded Terrier 5.7 (built by craigm on 2022-11-10 18:30) and terrier-helper 0.0.7\n",
      "\n",
      "No etc/terrier.properties, using terrier.default.properties for bootstrap configuration.\n"
     ]
    }
   ],
   "source": [
    "# Erstellen Sie einen REST-Client für die TIRA-Plattform\n",
    "ensure_pyterrier_is_loaded()\n",
    "tira = Client()"
   ]
  },
  {
   "cell_type": "markdown",
   "metadata": {},
   "source": [
    "### Schritt 2: Dataset und Index laden"
   ]
  },
  {
   "cell_type": "code",
   "execution_count": 3,
   "metadata": {},
   "outputs": [],
   "source": [
    "# Das Dataset: die Vereinigung der IR Anthology und der ACL Anthology\n",
    "pt_dataset = pt.get_dataset('irds:ir-lab-sose-2024/ir-acl-anthology-20240504-training')\n",
    "\n",
    "# Ein (vorgebauter) PyTerrier-Index, geladen von TIRA\n",
    "index = tira.pt.index('ir-lab-sose-2024/tira-ir-starter/Index (tira-ir-starter-pyterrier)', pt_dataset)"
   ]
  },
  {
   "cell_type": "markdown",
   "metadata": {},
   "source": [
    "### Schritt 3: Erweiterte Retrieval Pipeline mit gewichtetem TF-IDF definieren"
   ]
  },
  {
   "cell_type": "code",
   "execution_count": 4,
   "metadata": {},
   "outputs": [],
   "source": [
    "# Definieren Sie die Felder und ihre Gewichte\n",
    "fields = [\"title\", \"abstract\"]\n",
    "weights = [2.0, 1.0]  # Titel hat doppeltes Gewicht des Abstracts\n",
    "\n",
    "# Erstellen Sie ein gewichtetes TF-IDF-Modell\n",
    "weighted_tfidf = pt.BatchRetrieve(index, wmodel=\"TF_IDF\", controls={\"c\": 1.0}, fields=fields)\n",
    "\n",
    "# Wenden Sie die Feldgewichte an\n",
    "for field, weight in zip(fields, weights):\n",
    "    weighted_tfidf.controls[f\"w.{field}\"] = weight\n",
    "\n",
    "# Kombinieren Sie BM25 und gewichtetes TF-IDF\n",
    "combined_pipeline = pt.BatchRetrieve(index, wmodel=\"BM25\") >> weighted_tfidf"
   ]
  },
  {
   "cell_type": "markdown",
   "metadata": {},
   "source": [
    "### Schritt 4: Retrieval durchführen"
   ]
  },
  {
   "cell_type": "code",
   "execution_count": 5,
   "metadata": {},
   "outputs": [
    {
     "name": "stdout",
     "output_type": "stream",
     "text": [
      "Zunächst werfen wir einen kurzen Blick auf die ersten drei Topics:\n"
     ]
    },
    {
     "data": {
      "text/html": [
       "<div>\n",
       "<style scoped>\n",
       "    .dataframe tbody tr th:only-of-type {\n",
       "        vertical-align: middle;\n",
       "    }\n",
       "\n",
       "    .dataframe tbody tr th {\n",
       "        vertical-align: top;\n",
       "    }\n",
       "\n",
       "    .dataframe thead th {\n",
       "        text-align: right;\n",
       "    }\n",
       "</style>\n",
       "<table border=\"1\" class=\"dataframe\">\n",
       "  <thead>\n",
       "    <tr style=\"text-align: right;\">\n",
       "      <th></th>\n",
       "      <th>qid</th>\n",
       "      <th>query</th>\n",
       "    </tr>\n",
       "  </thead>\n",
       "  <tbody>\n",
       "    <tr>\n",
       "      <th>0</th>\n",
       "      <td>1</td>\n",
       "      <td>retrieval system improving effectiveness</td>\n",
       "    </tr>\n",
       "    <tr>\n",
       "      <th>1</th>\n",
       "      <td>2</td>\n",
       "      <td>machine learning language identification</td>\n",
       "    </tr>\n",
       "    <tr>\n",
       "      <th>2</th>\n",
       "      <td>3</td>\n",
       "      <td>social media detect self harm</td>\n",
       "    </tr>\n",
       "  </tbody>\n",
       "</table>\n",
       "</div>"
      ],
      "text/plain": [
       "  qid                                     query\n",
       "0   1  retrieval system improving effectiveness\n",
       "1   2  machine learning language identification\n",
       "2   3             social media detect self harm"
      ]
     },
     "execution_count": 5,
     "metadata": {},
     "output_type": "execute_result"
    }
   ],
   "source": [
    "print('Zunächst werfen wir einen kurzen Blick auf die ersten drei Topics:')\n",
    "pt_dataset.get_topics('text').head(3)"
   ]
  },
  {
   "cell_type": "code",
   "execution_count": 6,
   "metadata": {},
   "outputs": [
    {
     "name": "stdout",
     "output_type": "stream",
     "text": [
      "Jetzt führen wir das Retrieval durch...\n"
     ]
    },
    {
     "name": "stderr",
     "output_type": "stream",
     "text": [
      "BR(TF_IDF): 100%|██████████| 68/68 [00:01<00:00, 57.09q/s]\n"
     ]
    },
    {
     "name": "stdout",
     "output_type": "stream",
     "text": [
      "Fertig. Hier sind die ersten 10 Einträge des Runs\n"
     ]
    },
    {
     "data": {
      "text/html": [
       "<div>\n",
       "<style scoped>\n",
       "    .dataframe tbody tr th:only-of-type {\n",
       "        vertical-align: middle;\n",
       "    }\n",
       "\n",
       "    .dataframe tbody tr th {\n",
       "        vertical-align: top;\n",
       "    }\n",
       "\n",
       "    .dataframe thead th {\n",
       "        text-align: right;\n",
       "    }\n",
       "</style>\n",
       "<table border=\"1\" class=\"dataframe\">\n",
       "  <thead>\n",
       "    <tr style=\"text-align: right;\">\n",
       "      <th></th>\n",
       "      <th>qid</th>\n",
       "      <th>docid</th>\n",
       "      <th>docno</th>\n",
       "      <th>rank</th>\n",
       "      <th>score</th>\n",
       "      <th>query</th>\n",
       "    </tr>\n",
       "  </thead>\n",
       "  <tbody>\n",
       "    <tr>\n",
       "      <th>0</th>\n",
       "      <td>1</td>\n",
       "      <td>125137</td>\n",
       "      <td>1989.ipm_journal-ir0volumeA25A4.2</td>\n",
       "      <td>0</td>\n",
       "      <td>12.493450</td>\n",
       "      <td>retrieval system improving effectiveness</td>\n",
       "    </tr>\n",
       "    <tr>\n",
       "      <th>1</th>\n",
       "      <td>1</td>\n",
       "      <td>94858</td>\n",
       "      <td>2004.cikm_conference-2004.47</td>\n",
       "      <td>1</td>\n",
       "      <td>10.246570</td>\n",
       "      <td>retrieval system improving effectiveness</td>\n",
       "    </tr>\n",
       "    <tr>\n",
       "      <th>2</th>\n",
       "      <td>1</td>\n",
       "      <td>111672</td>\n",
       "      <td>2003.trec_conference-2003.21</td>\n",
       "      <td>2</td>\n",
       "      <td>10.035867</td>\n",
       "      <td>retrieval system improving effectiveness</td>\n",
       "    </tr>\n",
       "    <tr>\n",
       "      <th>3</th>\n",
       "      <td>1</td>\n",
       "      <td>123051</td>\n",
       "      <td>2002.ipm_journal-ir0volumeA38A1.0</td>\n",
       "      <td>3</td>\n",
       "      <td>10.035867</td>\n",
       "      <td>retrieval system improving effectiveness</td>\n",
       "    </tr>\n",
       "    <tr>\n",
       "      <th>4</th>\n",
       "      <td>1</td>\n",
       "      <td>110990</td>\n",
       "      <td>1998.trec_conference-1998.34</td>\n",
       "      <td>4</td>\n",
       "      <td>9.866787</td>\n",
       "      <td>retrieval system improving effectiveness</td>\n",
       "    </tr>\n",
       "    <tr>\n",
       "      <th>5</th>\n",
       "      <td>1</td>\n",
       "      <td>53327</td>\n",
       "      <td>O07-2010</td>\n",
       "      <td>5</td>\n",
       "      <td>9.545162</td>\n",
       "      <td>retrieval system improving effectiveness</td>\n",
       "    </tr>\n",
       "    <tr>\n",
       "      <th>6</th>\n",
       "      <td>1</td>\n",
       "      <td>78846</td>\n",
       "      <td>2016.iir_workshop-2016.13</td>\n",
       "      <td>6</td>\n",
       "      <td>9.545162</td>\n",
       "      <td>retrieval system improving effectiveness</td>\n",
       "    </tr>\n",
       "    <tr>\n",
       "      <th>7</th>\n",
       "      <td>1</td>\n",
       "      <td>85224</td>\n",
       "      <td>2010.riao_conference-2010.33</td>\n",
       "      <td>7</td>\n",
       "      <td>9.545162</td>\n",
       "      <td>retrieval system improving effectiveness</td>\n",
       "    </tr>\n",
       "    <tr>\n",
       "      <th>8</th>\n",
       "      <td>1</td>\n",
       "      <td>90655</td>\n",
       "      <td>2017.airs_conference-2017.1</td>\n",
       "      <td>8</td>\n",
       "      <td>9.545162</td>\n",
       "      <td>retrieval system improving effectiveness</td>\n",
       "    </tr>\n",
       "    <tr>\n",
       "      <th>9</th>\n",
       "      <td>1</td>\n",
       "      <td>91391</td>\n",
       "      <td>2004.ecir_conference-2004.21</td>\n",
       "      <td>9</td>\n",
       "      <td>9.545162</td>\n",
       "      <td>retrieval system improving effectiveness</td>\n",
       "    </tr>\n",
       "  </tbody>\n",
       "</table>\n",
       "</div>"
      ],
      "text/plain": [
       "  qid   docid                              docno  rank      score  \\\n",
       "0   1  125137  1989.ipm_journal-ir0volumeA25A4.2     0  12.493450   \n",
       "1   1   94858       2004.cikm_conference-2004.47     1  10.246570   \n",
       "2   1  111672       2003.trec_conference-2003.21     2  10.035867   \n",
       "3   1  123051  2002.ipm_journal-ir0volumeA38A1.0     3  10.035867   \n",
       "4   1  110990       1998.trec_conference-1998.34     4   9.866787   \n",
       "5   1   53327                           O07-2010     5   9.545162   \n",
       "6   1   78846          2016.iir_workshop-2016.13     6   9.545162   \n",
       "7   1   85224       2010.riao_conference-2010.33     7   9.545162   \n",
       "8   1   90655        2017.airs_conference-2017.1     8   9.545162   \n",
       "9   1   91391       2004.ecir_conference-2004.21     9   9.545162   \n",
       "\n",
       "                                      query  \n",
       "0  retrieval system improving effectiveness  \n",
       "1  retrieval system improving effectiveness  \n",
       "2  retrieval system improving effectiveness  \n",
       "3  retrieval system improving effectiveness  \n",
       "4  retrieval system improving effectiveness  \n",
       "5  retrieval system improving effectiveness  \n",
       "6  retrieval system improving effectiveness  \n",
       "7  retrieval system improving effectiveness  \n",
       "8  retrieval system improving effectiveness  \n",
       "9  retrieval system improving effectiveness  "
      ]
     },
     "execution_count": 6,
     "metadata": {},
     "output_type": "execute_result"
    }
   ],
   "source": [
    "print('Jetzt führen wir das Retrieval durch...')\n",
    "run = combined_pipeline(pt_dataset.get_topics('text'))\n",
    "\n",
    "print('Fertig. Hier sind die ersten 10 Einträge des Runs')\n",
    "run.head(10)"
   ]
  },
  {
   "cell_type": "markdown",
   "metadata": {},
   "source": [
    "### Schritt 5: Run-Datei für nachfolgende Auswertungen persistieren"
   ]
  },
  {
   "cell_type": "code",
   "execution_count": 7,
   "metadata": {},
   "outputs": [
    {
     "name": "stdout",
     "output_type": "stream",
     "text": [
      "The run file is normalized outside the TIRA sandbox, I will store it at \"../runs\".\n",
      "Done. run file is stored under \"../runs/run.txt\".\n"
     ]
    }
   ],
   "source": [
    "persist_and_normalize_run(run, system_name='weighted-tfidf-combined', default_output='../runs')"
   ]
  },
  {
   "cell_type": "markdown",
   "metadata": {},
   "source": [
    "### Schritt 6: Analyse und Vergleich\n",
    "\n",
    "Um die Auswirkungen der Feldgewichtung zu verstehen, können Sie die Ergebnisse dieses Runs mit denen des ursprünglichen TF-IDF-Ansatzes vergleichen. Achten Sie besonders auf Änderungen in der Reihenfolge der Dokumente und auf mögliche Verbesserungen bei der Relevanz der Top-Ergebnisse.\n",
    "\n",
    "Für eine gründliche Evaluation sollten Sie Metriken wie MAP (Mean Average Precision), NDCG (Normalized Discounted Cumulative Gain) oder Precision@k verwenden. Dies erfordert jedoch ein separates Evaluationsnotebook mit Zugriff auf Relevanzurteile."
   ]
  }
 ],
 "metadata": {
  "kernelspec": {
   "display_name": "Python 3",
   "language": "python",
   "name": "python3"
  },
  "language_info": {
   "codemirror_mode": {
    "name": "ipython",
    "version": 3
   },
   "file_extension": ".py",
   "mimetype": "text/x-python",
   "name": "python",
   "nbconvert_exporter": "python",
   "pygments_lexer": "ipython3",
   "version": "3.11.5"
  },
  "orig_nbformat": 4
 },
 "nbformat": 4,
 "nbformat_minor": 2
}
