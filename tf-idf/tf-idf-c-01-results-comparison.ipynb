{
 "cells": [
  {
   "cell_type": "markdown",
   "metadata": {},
   "source": [
    "# IR Lab SoSe 2024: Vergleich von BM25 und BM25+TF-IDF Retrieval Systemen\n",
    "\n",
    "Dieses Jupyter Notebook implementiert und vergleicht zwei Retrieval-Systeme: eines nur mit BM25 und eines mit BM25 und TF-IDF.\n",
    "Wir verwenden ein Korpus wissenschaftlicher Arbeiten (Titel + Abstracts) aus den Bereichen Information Retrieval und Natural Language Processing (die [IR Anthology](https://ir.webis.de/anthology/) und die [ACL Anthology](https://aclanthology.org/))."
   ]
  },
  {
   "cell_type": "markdown",
   "metadata": {},
   "source": [
    "### Schritt 1: Bibliotheken importieren"
   ]
  },
  {
   "cell_type": "code",
   "execution_count": 1,
   "metadata": {},
   "outputs": [
    {
     "name": "stderr",
     "output_type": "stream",
     "text": [
      "/opt/homebrew/lib/python3.11/site-packages/tqdm/auto.py:21: TqdmWarning: IProgress not found. Please update jupyter and ipywidgets. See https://ipywidgets.readthedocs.io/en/stable/user_install.html\n",
      "  from .autonotebook import tqdm as notebook_tqdm\n"
     ]
    }
   ],
   "source": [
    "# Imports\n",
    "from tira.third_party_integrations import ensure_pyterrier_is_loaded, persist_and_normalize_run\n",
    "from tira.rest_api_client import Client\n",
    "import pyterrier as pt\n",
    "from pyterrier.pipelines import *\n",
    "import pandas as pd"
   ]
  },
  {
   "cell_type": "code",
   "execution_count": 2,
   "metadata": {},
   "outputs": [
    {
     "name": "stderr",
     "output_type": "stream",
     "text": [
      "PyTerrier 0.10.1 has loaded Terrier 5.7 (built by craigm on 2022-11-10 18:30) and terrier-helper 0.0.7\n",
      "\n",
      "No etc/terrier.properties, using terrier.default.properties for bootstrap configuration.\n"
     ]
    }
   ],
   "source": [
    "ensure_pyterrier_is_loaded()\n",
    "tira = Client()"
   ]
  },
  {
   "cell_type": "markdown",
   "metadata": {},
   "source": [
    "### Schritt 2: Dataset und Index laden"
   ]
  },
  {
   "cell_type": "code",
   "execution_count": 3,
   "metadata": {},
   "outputs": [],
   "source": [
    "pt_dataset = pt.get_dataset('irds:ir-lab-sose-2024/ir-acl-anthology-20240504-training')\n",
    "index = tira.pt.index('ir-lab-sose-2024/tira-ir-starter/Index (tira-ir-starter-pyterrier)', pt_dataset)"
   ]
  },
  {
   "cell_type": "markdown",
   "metadata": {},
   "source": [
    "### Schritt 3: Retrieval Pipelines definieren"
   ]
  },
  {
   "cell_type": "code",
   "execution_count": 4,
   "metadata": {},
   "outputs": [],
   "source": [
    "# BM25 Pipeline\n",
    "bm25 = pt.BatchRetrieve(index, wmodel=\"BM25\")\n",
    "\n",
    "# BM25 + TF-IDF Pipeline\n",
    "tfidf = pt.BatchRetrieve(index, wmodel=\"TF_IDF\")\n",
    "combined_pipeline = bm25 >> tfidf"
   ]
  },
  {
   "cell_type": "markdown",
   "metadata": {},
   "source": [
    "### Schritt 4: Runs erstellen und vergleichen"
   ]
  },
  {
   "cell_type": "code",
   "execution_count": 5,
   "metadata": {},
   "outputs": [
    {
     "name": "stdout",
     "output_type": "stream",
     "text": [
      "Beispiel-Topics:\n",
      "  qid                                     query\n",
      "0   1  retrieval system improving effectiveness\n",
      "1   2  machine learning language identification\n",
      "2   3             social media detect self harm\n",
      "\n",
      "Führe Retrieval für beide Pipelines durch...\n",
      "\n",
      "Vergleiche die Top-5 Ergebnisse für die erste Query:\n",
      "\n",
      "BM25 Top-5:\n",
      "                                docno      score\n",
      "0        2004.cikm_conference-2004.47  15.681777\n",
      "1   1989.ipm_journal-ir0volumeA25A4.2  15.047380\n",
      "2  2005.ipm_journal-ir0volumeA41A5.11  14.144223\n",
      "3                            W05-0704  14.025748\n",
      "4       2016.ntcir_conference-2016.90  13.947994\n",
      "\n",
      "BM25 + TF-IDF Top-5:\n",
      "                                docno      score\n",
      "0        2004.cikm_conference-2004.47  10.432440\n",
      "1   1989.ipm_journal-ir0volumeA25A4.2   9.971822\n",
      "2  2005.ipm_journal-ir0volumeA41A5.11   9.255656\n",
      "3     1998.sigirconf_conference-98.33   9.133236\n",
      "4       2008.cikm_conference-2008.183   9.126181\n",
      "\n",
      "Überschneidung der Top-10 Ergebnisse: 9 von 10\n"
     ]
    }
   ],
   "source": [
    "topics = pt_dataset.get_topics('text')\n",
    "print('Beispiel-Topics:')\n",
    "print(topics.head(3))\n",
    "\n",
    "print('\\nFühre Retrieval für beide Pipelines durch...')\n",
    "run_bm25 = bm25(topics)\n",
    "run_combined = combined_pipeline(topics)\n",
    "\n",
    "print('\\nVergleiche die Top-5 Ergebnisse für die erste Query:')\n",
    "first_query = topics.iloc[0]['qid']\n",
    "\n",
    "results_bm25 = run_bm25[run_bm25['qid'] == first_query].head(5)\n",
    "results_combined = run_combined[run_combined['qid'] == first_query].head(5)\n",
    "\n",
    "print('\\nBM25 Top-5:')\n",
    "print(results_bm25[['docno', 'score']])\n",
    "\n",
    "print('\\nBM25 + TF-IDF Top-5:')\n",
    "print(results_combined[['docno', 'score']])\n",
    "\n",
    "# Berechne Überschneidung der Top-10 Ergebnisse\n",
    "top_10_bm25 = set(run_bm25[run_bm25['qid'] == first_query]['docno'].head(10))\n",
    "top_10_combined = set(run_combined[run_combined['qid'] == first_query]['docno'].head(10))\n",
    "overlap = len(top_10_bm25.intersection(top_10_combined))\n",
    "\n",
    "print(f'\\nÜberschneidung der Top-10 Ergebnisse: {overlap} von 10')"
   ]
  },
  {
   "cell_type": "markdown",
   "metadata": {},
   "source": [
    "### Schritt 5: Run-Dateien persistieren"
   ]
  },
  {
   "cell_type": "code",
   "execution_count": 6,
   "metadata": {},
   "outputs": [
    {
     "name": "stdout",
     "output_type": "stream",
     "text": [
      "The run file is normalized outside the TIRA sandbox, I will store it at \"../runs\".\n",
      "Done. run file is stored under \"../runs/run.txt\".\n",
      "The run file is normalized outside the TIRA sandbox, I will store it at \"../runs\".\n",
      "Done. run file is stored under \"../runs/run.txt\".\n"
     ]
    }
   ],
   "source": [
    "persist_and_normalize_run(run_bm25, system_name='bm25-baseline', default_output='../runs')\n",
    "persist_and_normalize_run(run_combined, system_name='bm25-tfidf-combined', default_output='../runs')"
   ]
  }
 ],
 "metadata": {
  "kernelspec": {
   "display_name": "Python 3",
   "language": "python",
   "name": "python3"
  },
  "language_info": {
   "codemirror_mode": {
    "name": "ipython",
    "version": 3
   },
   "file_extension": ".py",
   "mimetype": "text/x-python",
   "name": "python",
   "nbconvert_exporter": "python",
   "pygments_lexer": "ipython3",
   "version": "3.11.5"
  }
 },
 "nbformat": 4,
 "nbformat_minor": 2
}
