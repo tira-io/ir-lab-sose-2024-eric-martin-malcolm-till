{
 "cells": [
  {
   "cell_type": "markdown",
   "metadata": {},
   "source": [
    "# IR Lab SoSe 2024: Erweitertes Retrieval System mit BM25 und TF-IDF\n",
    "\n",
    "Dieses Jupyter Notebook dient als erweitertes Retrieval-System, das sowohl BM25 als auch TF-IDF verwendet.\n",
    "Wir verwenden ein Korpus wissenschaftlicher Arbeiten (Titel + Abstracts) aus den Bereichen Information Retrieval und Natural Language Processing (die [IR Anthology](https://ir.webis.de/anthology/) und die [ACL Anthology](https://aclanthology.org/)). Dieses Jupyter Notebook dient nur als Retrieval-System, d.h. es erhält eine Reihe von Informationsbedürfnissen (Topics) und ein Korpus als Eingabe und erzeugt eine Run-Datei als Ausgabe. Bitte führen Sie Auswertungen in einem neuen, dedizierten Notebook durch."
   ]
  },
  {
   "cell_type": "markdown",
   "metadata": {},
   "source": [
    "### Schritt 1: Bibliotheken importieren\n",
    "\n",
    "Wir verwenden [tira](https://www.tira.io/), eine Information Retrieval Shared Task Plattform, zum Laden des (vorgebauten) Retrieval-Index und [ir_dataset](https://ir-datasets.com/), um anschließend ein Retrieval-System mit [PyTerrier](https://github.com/terrier-org/pyterrier), einer Open-Source-Suchmaschine, aufzubauen."
   ]
  },
  {
   "cell_type": "code",
   "execution_count": null,
   "metadata": {},
   "outputs": [],
   "source": [
    "# Sie müssen diese Zelle nur ausführen, wenn Sie Google Colab verwenden.\n",
    "# Wenn Sie GitHub Codespaces verwenden, ist alles bereits installiert.\n",
    "!pip3 install tira ir-datasets python-terrier"
   ]
  },
  {
   "cell_type": "code",
   "execution_count": null,
   "metadata": {},
   "outputs": [],
   "source": [
    "# Imports\n",
    "from tira.third_party_integrations import ensure_pyterrier_is_loaded, persist_and_normalize_run\n",
    "from tira.rest_api_client import Client\n",
    "import pyterrier as pt\n",
    "from pyterrier.pipelines import *"
   ]
  },
  {
   "cell_type": "code",
   "execution_count": null,
   "metadata": {},
   "outputs": [],
   "source": [
    "# Erstellen Sie einen REST-Client für die TIRA-Plattform, um auf die vorindexierten Daten zuzugreifen.\n",
    "ensure_pyterrier_is_loaded()\n",
    "tira = Client()"
   ]
  },
  {
   "cell_type": "markdown",
   "metadata": {},
   "source": [
    "### Schritt 2: Dataset und Index laden"
   ]
  },
  {
   "cell_type": "code",
   "execution_count": null,
   "metadata": {},
   "outputs": [],
   "source": [
    "# Das Dataset: die Vereinigung der IR Anthology und der ACL Anthology\n",
    "pt_dataset = pt.get_dataset('irds:ir-lab-sose-2024/ir-acl-anthology-20240504-training')\n",
    "\n",
    "# Ein (vorgebauter) PyTerrier-Index, geladen von TIRA\n",
    "index = tira.pt.index('ir-lab-sose-2024/tira-ir-starter/Index (tira-ir-starter-pyterrier)', pt_dataset)"
   ]
  },
  {
   "cell_type": "markdown",
   "metadata": {},
   "source": [
    "### Schritt 3: Erweiterte Retrieval Pipeline definieren\n",
    "\n",
    "Wir definieren eine Retrieval-Pipeline, die sowohl BM25 als auch TF-IDF verwendet."
   ]
  },
  {
   "cell_type": "code",
   "execution_count": null,
   "metadata": {},
   "outputs": [],
   "source": [
    "# BM25 und TF-IDF Retrieval-Modelle definieren\n",
    "bm25 = pt.BatchRetrieve(index, wmodel=\"BM25\")\n",
    "tfidf = pt.BatchRetrieve(index, wmodel=\"TF_IDF\")\n",
    "\n",
    "# Kombinierte Pipeline: BM25 gefolgt von TF-IDF Re-Ranking\n",
    "combined_pipeline = bm25 >> tfidf"
   ]
  },
  {
   "cell_type": "markdown",
   "metadata": {},
   "source": [
    "### Schritt 4: Run erstellen"
   ]
  },
  {
   "cell_type": "code",
   "execution_count": null,
   "metadata": {},
   "outputs": [],
   "source": [
    "print('Zunächst werfen wir einen kurzen Blick auf die ersten drei Topics:')\n",
    "pt_dataset.get_topics('text').head(3)"
   ]
  },
  {
   "cell_type": "code",
   "execution_count": null,
   "metadata": {},
   "outputs": [],
   "source": [
    "print('Jetzt führen wir das Retrieval durch...')\n",
    "run = combined_pipeline(pt_dataset.get_topics('text'))\n",
    "\n",
    "print('Fertig. Hier sind die ersten 10 Einträge des Runs')\n",
    "run.head(10)"
   ]
  },
  {
   "cell_type": "markdown",
   "metadata": {},
   "source": [
    "### Schritt 5: Run-Datei für nachfolgende Auswertungen persistieren"
   ]
  },
  {
   "cell_type": "code",
   "execution_count": null,
   "metadata": {},
   "outputs": [],
   "source": [
    "persist_and_normalize_run(run, system_name='bm25-tfidf-combined', default_output='../runs')"
   ]
  }
 ],
 "metadata": {
  "kernelspec": {
   "display_name": "Python 3",
   "language": "python",
   "name": "python3"
  },
  "language_info": {
   "codemirror_mode": {
    "name": "ipython",
    "version": 3
   },
   "file_extension": ".py",
   "mimetype": "text/x-python",
   "name": "python",
   "nbconvert_exporter": "python",
   "pygments_lexer": "ipython3",
   "version": "3.11.5"
  }
 },
 "nbformat": 4,
 "nbformat_minor": 2
}